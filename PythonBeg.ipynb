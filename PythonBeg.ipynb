{
 "cells": [
  {
   "cell_type": "markdown",
   "id": "879dd501-1ae8-4f09-a68c-4792aabca0b7",
   "metadata": {},
   "source": [
    "# Variables"
   ]
  },
  {
   "cell_type": "code",
   "execution_count": 2,
   "id": "3292374c-b596-40cf-84ad-b821da61dab8",
   "metadata": {
    "tags": []
   },
   "outputs": [
    {
     "name": "stdout",
     "output_type": "stream",
     "text": [
      "Variable               Type             Data/Info\n",
      "-------------------------------------------------\n",
      "NamespaceMagics        MetaHasTraits    <class 'IPython.core.magi<...>mespace.NamespaceMagics'>\n",
      "dataframe_columns      function         <function dataframe_columns at 0x106687420>\n",
      "dataframe_hash         function         <function dataframe_hash at 0x1501de2a0>\n",
      "dtypes_str             function         <function dtypes_str at 0x137295ee0>\n",
      "get_dataframes         function         <function get_dataframes at 0x1507fd080>\n",
      "get_ipython            function         <function get_ipython at 0x104b1a160>\n",
      "getpass                module           <module 'getpass' from '/<...>b/python3.11/getpass.py'>\n",
      "hashlib                module           <module 'hashlib' from '/<...>b/python3.11/hashlib.py'>\n",
      "import_pandas_safely   function         <function import_pandas_safely at 0x10669ce00>\n",
      "is_data_frame          function         <function is_data_frame at 0x10669ca40>\n",
      "json                   module           <module 'json' from '/opt<...>on3.11/json/__init__.py'>\n",
      "sys                    module           <module 'sys' (built-in)>\n"
     ]
    }
   ],
   "source": [
    "%whos"
   ]
  },
  {
   "cell_type": "code",
   "execution_count": 4,
   "id": "5865d77a-aa37-4354-ace9-0862a4b0f2af",
   "metadata": {
    "tags": []
   },
   "outputs": [],
   "source": [
    "x = 10"
   ]
  },
  {
   "cell_type": "code",
   "execution_count": 6,
   "id": "ac00306c-e937-4ddc-a9e7-c9c2f53966a9",
   "metadata": {
    "tags": []
   },
   "outputs": [
    {
     "name": "stdout",
     "output_type": "stream",
     "text": [
      "Variable               Type             Data/Info\n",
      "-------------------------------------------------\n",
      "NamespaceMagics        MetaHasTraits    <class 'IPython.core.magi<...>mespace.NamespaceMagics'>\n",
      "dataframe_columns      function         <function dataframe_columns at 0x10669ce00>\n",
      "dataframe_hash         function         <function dataframe_hash at 0x106687420>\n",
      "dtypes_str             function         <function dtypes_str at 0x10669ca40>\n",
      "get_dataframes         function         <function get_dataframes at 0x17c85e980>\n",
      "get_ipython            function         <function get_ipython at 0x104b1a160>\n",
      "getpass                module           <module 'getpass' from '/<...>b/python3.11/getpass.py'>\n",
      "hashlib                module           <module 'hashlib' from '/<...>b/python3.11/hashlib.py'>\n",
      "import_pandas_safely   function         <function import_pandas_safely at 0x1507fdd00>\n",
      "is_data_frame          function         <function is_data_frame at 0x17c85e660>\n",
      "json                   module           <module 'json' from '/opt<...>on3.11/json/__init__.py'>\n",
      "sys                    module           <module 'sys' (built-in)>\n",
      "x                      int              10\n"
     ]
    }
   ],
   "source": [
    "%whos"
   ]
  },
  {
   "cell_type": "code",
   "execution_count": 8,
   "id": "578fa3c6-2ecb-4b1c-8589-0ea2d3b82304",
   "metadata": {
    "tags": []
   },
   "outputs": [],
   "source": [
    "x = 10.05"
   ]
  },
  {
   "cell_type": "code",
   "execution_count": 10,
   "id": "02256c30-9116-4a2c-92c1-cd65f74c88d0",
   "metadata": {
    "tags": []
   },
   "outputs": [
    {
     "name": "stdout",
     "output_type": "stream",
     "text": [
      "Variable               Type             Data/Info\n",
      "-------------------------------------------------\n",
      "NamespaceMagics        MetaHasTraits    <class 'IPython.core.magi<...>mespace.NamespaceMagics'>\n",
      "dataframe_columns      function         <function dataframe_columns at 0x1507fdd00>\n",
      "dataframe_hash         function         <function dataframe_hash at 0x1507fd1c0>\n",
      "dtypes_str             function         <function dtypes_str at 0x1507fd760>\n",
      "get_dataframes         function         <function get_dataframes at 0x1507fd620>\n",
      "get_ipython            function         <function get_ipython at 0x104b1a160>\n",
      "getpass                module           <module 'getpass' from '/<...>b/python3.11/getpass.py'>\n",
      "hashlib                module           <module 'hashlib' from '/<...>b/python3.11/hashlib.py'>\n",
      "import_pandas_safely   function         <function import_pandas_safely at 0x1507fdda0>\n",
      "is_data_frame          function         <function is_data_frame at 0x1507fd4e0>\n",
      "json                   module           <module 'json' from '/opt<...>on3.11/json/__init__.py'>\n",
      "sys                    module           <module 'sys' (built-in)>\n",
      "x                      float            10.05\n"
     ]
    }
   ],
   "source": [
    "%whos"
   ]
  },
  {
   "cell_type": "markdown",
   "id": "e2bf465f-5100-413e-900c-706f894e9010",
   "metadata": {},
   "source": [
    "# Operators"
   ]
  },
  {
   "cell_type": "code",
   "execution_count": 16,
   "id": "1d262e87-3ff4-46c8-8ecb-6d5704e72d58",
   "metadata": {
    "tags": []
   },
   "outputs": [],
   "source": [
    "a = 5\n",
    "b = 10\n",
    "c = \"Py\"\n",
    "d = \"thon\""
   ]
  },
  {
   "cell_type": "code",
   "execution_count": 18,
   "id": "6dcee730-5e72-4227-a58a-25cfc47f784e",
   "metadata": {
    "tags": []
   },
   "outputs": [],
   "source": [
    "E = a + b\n",
    "F = c + d"
   ]
  },
  {
   "cell_type": "code",
   "execution_count": 22,
   "id": "c0de5f63-7c6d-46c4-b80f-3048d6679288",
   "metadata": {
    "tags": []
   },
   "outputs": [
    {
     "name": "stdout",
     "output_type": "stream",
     "text": [
      "15 Python\n"
     ]
    }
   ],
   "source": [
    "print(E,F)"
   ]
  },
  {
   "cell_type": "markdown",
   "id": "2986c928-0426-4070-8bd3-cc72f377c0f8",
   "metadata": {},
   "source": [
    "Camel Notaion (usually java developer or any other uses)"
   ]
  },
  {
   "cell_type": "code",
   "execution_count": 1,
   "id": "852a5373-8c97-47a4-aaf9-eae82225f2d0",
   "metadata": {
    "tags": []
   },
   "outputs": [
    {
     "name": "stdout",
     "output_type": "stream",
     "text": [
      "Friday\n"
     ]
    }
   ],
   "source": [
    "gameDay = \"Friday\"\n",
    "print(gameDay)"
   ]
  },
  {
   "cell_type": "markdown",
   "id": "a9c6e16c-7fa8-407b-bceb-2b2abd5fbc6d",
   "metadata": {},
   "source": [
    "# Some Funtions"
   ]
  },
  {
   "cell_type": "code",
   "execution_count": 8,
   "id": "b0fd352d-2290-4c0b-8a4f-409bc25da109",
   "metadata": {
    "tags": []
   },
   "outputs": [
    {
     "name": "stdout",
     "output_type": "stream",
     "text": [
      "128 128 3\n"
     ]
    }
   ],
   "source": [
    "a = pow(2,7)\n",
    "b = 2**7\n",
    "c = pow(2,7,5)\n",
    "print(a,b,c)"
   ]
  },
  {
   "cell_type": "code",
   "execution_count": 12,
   "id": "87067e64-ea28-40cb-86a9-7f71d20109b1",
   "metadata": {
    "tags": []
   },
   "outputs": [
    {
     "data": {
      "text/plain": [
       "5"
      ]
     },
     "execution_count": 12,
     "metadata": {},
     "output_type": "execute_result"
    }
   ],
   "source": [
    "round(5.0083)"
   ]
  },
  {
   "cell_type": "code",
   "execution_count": 14,
   "id": "d16b5846-ed41-4c14-97e7-027f4541b387",
   "metadata": {
    "tags": []
   },
   "outputs": [
    {
     "data": {
      "text/plain": [
       "5.099"
      ]
     },
     "execution_count": 14,
     "metadata": {},
     "output_type": "execute_result"
    }
   ],
   "source": [
    "round(5.098787,3)"
   ]
  },
  {
   "cell_type": "code",
   "execution_count": 24,
   "id": "921888a8-913c-4e51-87b0-261d783ec794",
   "metadata": {
    "tags": []
   },
   "outputs": [
    {
     "data": {
      "text/plain": [
       "(2, 0)"
      ]
     },
     "execution_count": 24,
     "metadata": {},
     "output_type": "execute_result"
    }
   ],
   "source": [
    "divmod(4,2)"
   ]
  },
  {
   "cell_type": "code",
   "execution_count": 20,
   "id": "2f814636-7453-4a25-aabe-f694b1b81881",
   "metadata": {
    "tags": []
   },
   "outputs": [
    {
     "data": {
      "text/plain": [
       "(5, 0)"
      ]
     },
     "execution_count": 20,
     "metadata": {},
     "output_type": "execute_result"
    }
   ],
   "source": [
    "divmod(25,5)"
   ]
  },
  {
   "cell_type": "code",
   "execution_count": 26,
   "id": "7cfdd2f2-dfb7-486d-a060-1238d1cbe065",
   "metadata": {
    "tags": []
   },
   "outputs": [
    {
     "data": {
      "text/plain": [
       "(10, 1)"
      ]
     },
     "execution_count": 26,
     "metadata": {},
     "output_type": "execute_result"
    }
   ],
   "source": [
    "divmod(31,3)"
   ]
  },
  {
   "cell_type": "code",
   "execution_count": 28,
   "id": "e3e9419b-95de-4dee-82bf-31f8d54bc9a7",
   "metadata": {
    "tags": []
   },
   "outputs": [
    {
     "data": {
      "text/plain": [
       "False"
      ]
     },
     "execution_count": 28,
     "metadata": {},
     "output_type": "execute_result"
    }
   ],
   "source": [
    "isinstance(1.0,int)"
   ]
  },
  {
   "cell_type": "code",
   "execution_count": 34,
   "id": "7eac9dc4-6567-41a6-942b-42a95613165b",
   "metadata": {
    "tags": []
   },
   "outputs": [
    {
     "name": "stdout",
     "output_type": "stream",
     "text": [
      "True\n"
     ]
    }
   ],
   "source": [
    "print(isinstance(5.0,(int,float)))"
   ]
  },
  {
   "cell_type": "code",
   "execution_count": 36,
   "id": "2ce10f99-9ab5-4d55-81a4-ff1368f5e134",
   "metadata": {
    "tags": []
   },
   "outputs": [
    {
     "name": "stdin",
     "output_type": "stream",
     "text": [
      "Enter Any Number 5\n"
     ]
    }
   ],
   "source": [
    "x = input(\"Enter Any Number\")"
   ]
  },
  {
   "cell_type": "code",
   "execution_count": 38,
   "id": "79260825-86a0-473d-926e-fb8c98032210",
   "metadata": {
    "tags": []
   },
   "outputs": [
    {
     "data": {
      "text/plain": [
       "str"
      ]
     },
     "execution_count": 38,
     "metadata": {},
     "output_type": "execute_result"
    }
   ],
   "source": [
    "type(x)"
   ]
  },
  {
   "cell_type": "code",
   "execution_count": 40,
   "id": "a198cc89-c3ce-4850-b672-37312e834c48",
   "metadata": {
    "tags": []
   },
   "outputs": [],
   "source": [
    "x = int(x)"
   ]
  },
  {
   "cell_type": "code",
   "execution_count": 42,
   "id": "6e876b20-3a02-4c51-8c21-8628701bc51b",
   "metadata": {
    "tags": []
   },
   "outputs": [
    {
     "data": {
      "text/plain": [
       "int"
      ]
     },
     "execution_count": 42,
     "metadata": {},
     "output_type": "execute_result"
    }
   ],
   "source": [
    "type(x)"
   ]
  },
  {
   "cell_type": "code",
   "execution_count": 46,
   "id": "f7247222-94bf-46ed-a274-93dd501410d1",
   "metadata": {
    "tags": []
   },
   "outputs": [
    {
     "name": "stdin",
     "output_type": "stream",
     "text": [
      "Enter Any Number 4\n"
     ]
    }
   ],
   "source": [
    "x = float(input(\"Enter Any Number\"))"
   ]
  },
  {
   "cell_type": "markdown",
   "id": "6b320174-8a98-4586-ab2b-5cb37995b8f0",
   "metadata": {},
   "source": [
    "# Control Flow"
   ]
  },
  {
   "cell_type": "code",
   "execution_count": 71,
   "id": "bff7a655-8ce0-4c55-9231-4cd7bef58ed4",
   "metadata": {
    "tags": []
   },
   "outputs": [
    {
     "name": "stdin",
     "output_type": "stream",
     "text": [
      "Enter a number for a: 5\n",
      "Enter a number for b: 10\n"
     ]
    },
    {
     "name": "stdout",
     "output_type": "stream",
     "text": [
      "b is bigger than a 10\n"
     ]
    }
   ],
   "source": [
    "a = int(input(\"Enter a number for a:\"))\n",
    "b = int(input(\"Enter a number for b:\"))\n",
    "if a>b:\n",
    "    print(\"a is bigger than b\",a)\n",
    "if b>a:\n",
    "    print(\"b is bigger than a\",b)"
   ]
  },
  {
   "cell_type": "code",
   "execution_count": 81,
   "id": "affc851a-c673-4958-864a-18e5e54be366",
   "metadata": {
    "tags": []
   },
   "outputs": [
    {
     "name": "stdin",
     "output_type": "stream",
     "text": [
      "Enter a number for a: 5\n",
      "Enter a number for b: 10\n"
     ]
    },
    {
     "name": "stdout",
     "output_type": "stream",
     "text": [
      "b is greater than a 10\n"
     ]
    }
   ],
   "source": [
    "a = int(input(\"Enter a number for a:\"))\n",
    "b = int(input(\"Enter a number for b:\"))\n",
    "if a>b:\n",
    "    print(\"a is greater than b\",a)\n",
    "else:\n",
    "    print(\"b is greater than a\",b)"
   ]
  },
  {
   "cell_type": "code",
   "execution_count": 85,
   "id": "22bbe15a-d047-4221-984e-28586b977e57",
   "metadata": {
    "tags": []
   },
   "outputs": [
    {
     "name": "stdin",
     "output_type": "stream",
     "text": [
      "Enter a number for a: 10\n",
      "Enter a number for b: 10\n"
     ]
    },
    {
     "name": "stdout",
     "output_type": "stream",
     "text": [
      "b and a are equal 10 10\n"
     ]
    }
   ],
   "source": [
    "a = int(input(\"Enter a number for a:\"))\n",
    "b = int(input(\"Enter a number for b:\"))\n",
    "if b>a:\n",
    "    print(\"b is greater than a\",b)\n",
    "elif b==a:\n",
    "    print(\"b and a are equal\",a,b)\n",
    "else:\n",
    "    print(\"a is greater than b\",a)"
   ]
  },
  {
   "cell_type": "code",
   "execution_count": 91,
   "id": "1453b411-5e02-4b08-92ff-ac0d57a81b63",
   "metadata": {
    "tags": []
   },
   "outputs": [
    {
     "name": "stdin",
     "output_type": "stream",
     "text": [
      "Input your marks: 105\n"
     ]
    },
    {
     "name": "stdout",
     "output_type": "stream",
     "text": [
      "Enter a valid marks\n"
     ]
    }
   ],
   "source": [
    "x = int(input(\"Input your marks:\"))\n",
    "if (x < 100) and (x >= 85):\n",
    "    print(\"A+\")\n",
    "elif x < 85 and x >=80:\n",
    "    print(\"A-\")\n",
    "elif (x < 80) and (x >= 75):\n",
    "    print(\"B+\")\n",
    "elif (x < 75) and (x >= 70):\n",
    "    print(\"B-\")\n",
    "elif x > 100:\n",
    "    print(\"Enter a valid marks\")\n",
    "else:\n",
    "    print(\"Below Average\")"
   ]
  },
  {
   "cell_type": "code",
   "execution_count": 107,
   "id": "8b88e5c6-d090-4358-a486-e7a33da2918b",
   "metadata": {
    "tags": []
   },
   "outputs": [
    {
     "name": "stdout",
     "output_type": "stream",
     "text": [
      "a<10\n"
     ]
    }
   ],
   "source": [
    "a = 5\n",
    "if a > 10:\n",
    "    print(\"a>10\")\n",
    "elif not(a > 10):\n",
    "    print(\"a<10\")"
   ]
  },
  {
   "cell_type": "code",
   "execution_count": 141,
   "id": "3afeeb6e-c8aa-448a-8821-ca15cf6ce822",
   "metadata": {
    "tags": []
   },
   "outputs": [
    {
     "name": "stdin",
     "output_type": "stream",
     "text": [
      "Enter a number 32\n"
     ]
    },
    {
     "name": "stdout",
     "output_type": "stream",
     "text": [
      "Number is greater than 10\n",
      "Number is greater than 20\n",
      "Number is greater than 30\n",
      "LOSER\n"
     ]
    }
   ],
   "source": [
    "y = int(input(\"Enter a number\"))\n",
    "if y > 10:\n",
    "    print(\"Number is greater than 10\")\n",
    "    if y > 20:\n",
    "        print(\"Number is greater than 20\")\n",
    "        if y > 30:\n",
    "            print(\"Number is greater than 30\")\n",
    "            if y < 35:\n",
    "                print(\"LOSER\")\n",
    "            else:\n",
    "                print(\"Next Time\")\n",
    "        else:\n",
    "            print(\"Greater than 35\")\n",
    "else:\n",
    "    print(\"Smaller than 10\")"
   ]
  },
  {
   "cell_type": "code",
   "execution_count": 216,
   "id": "3144328d-f146-4297-9cfb-f915744f4dbf",
   "metadata": {
    "tags": []
   },
   "outputs": [
    {
     "name": "stdin",
     "output_type": "stream",
     "text": [
      "Enter a number: -63.9\n"
     ]
    },
    {
     "name": "stdout",
     "output_type": "stream",
     "text": [
      "-63\n"
     ]
    }
   ],
   "source": [
    "\"\"\"\n",
    "write a code where user will enter a float number and you will have to extract the integer value\n",
    "in front of the points and then print whether it is even or odd number. \n",
    "\"\"\"\n",
    "x = float(input(\"Enter a number:\"))\n",
    "y = round(x)\n",
    "if y > 0:\n",
    "    if  y > x:\n",
    "        intValue = y - 1\n",
    "    else:\n",
    "        intValue = y\n",
    "else: \n",
    "    y < 0\n",
    "    if y < x:\n",
    "        intValue = y + 1\n",
    "    else:\n",
    "        intValue = y\n",
    "print(intValue)\n",
    "\n",
    "if intValue%2 == 0:\n",
    "    print(\"Number is Even\")\n",
    "else:\n",
    "    print(\"Number Is odd\")\n"
   ]
  },
  {
   "cell_type": "code",
   "execution_count": null,
   "id": "df034c8b-0266-4bb4-b102-9746a38fa9d4",
   "metadata": {},
   "outputs": [],
   "source": [
    "\n",
    "if intValue%2 == 0:\n",
    "    print(\"Number is Even\")\n",
    "else:\n",
    "    print(\"Number Is odd\")"
   ]
  },
  {
   "cell_type": "markdown",
   "id": "6fb84b5e-0fad-474f-bdde-62144f73da8a",
   "metadata": {
    "tags": []
   },
   "source": [
    "# Loops"
   ]
  },
  {
   "cell_type": "code",
   "execution_count": 28,
   "id": "baaa0eb2-9cc7-4cf2-bfc7-0c942cbd2af1",
   "metadata": {
    "tags": []
   },
   "outputs": [
    {
     "name": "stdin",
     "output_type": "stream",
     "text": [
      "Enter any number: 5\n"
     ]
    },
    {
     "name": "stdout",
     "output_type": "stream",
     "text": [
      "1\n",
      "4\n",
      "9\n",
      "16\n",
      "25\n"
     ]
    }
   ],
   "source": [
    "n = int(input(\"Enter any number:\"))\n",
    "i = 1\n",
    "while i <= n:\n",
    "    print(i**2)\n",
    "    i = i+1"
   ]
  },
  {
   "cell_type": "code",
   "execution_count": 32,
   "id": "dfcfee7f-0788-48ad-9e6d-c79cffa2ca13",
   "metadata": {
    "tags": []
   },
   "outputs": [
    {
     "name": "stdin",
     "output_type": "stream",
     "text": [
      "Enter any number 5\n"
     ]
    },
    {
     "name": "stdout",
     "output_type": "stream",
     "text": [
      "9\n"
     ]
    }
   ],
   "source": [
    "n = int(input(\"Enter any number\"))\n",
    "i = 1\n",
    "while i<n:\n",
    "    if i%3 == 0:\n",
    "        print(i*3)\n",
    "    else:\n",
    "        pass\n",
    "    i = i+1"
   ]
  },
  {
   "cell_type": "code",
   "execution_count": 65,
   "id": "2e82de8c-a4bb-4654-944e-523805290677",
   "metadata": {
    "tags": []
   },
   "outputs": [
    {
     "name": "stdout",
     "output_type": "stream",
     "text": [
      "17\n",
      "done\n"
     ]
    }
   ],
   "source": [
    "n = 1\n",
    "while True:\n",
    "    if n % 17 == 0:\n",
    "        print(n)\n",
    "        break\n",
    "    else:\n",
    "        n = n+1\n",
    "        continue\n",
    "        print(\"Done\")\n",
    "print(\"done\")"
   ]
  },
  {
   "cell_type": "code",
   "execution_count": 79,
   "id": "67983630-e174-40d9-b1ab-1af39725afbf",
   "metadata": {
    "tags": []
   },
   "outputs": [
    {
     "name": "stdout",
     "output_type": "stream",
     "text": [
      "0\n",
      "1\n",
      "2\n",
      "3\n",
      "4\n",
      "[0, 2, 4, 6, 8]\n"
     ]
    }
   ],
   "source": [
    "A = []\n",
    "for i in range (5):\n",
    "    print (i)\n",
    "    A.append(i*2)\n",
    "print(A)"
   ]
  },
  {
   "cell_type": "code",
   "execution_count": 148,
   "id": "ed01a0d1-8fdb-41e9-a214-4fb0a8ee69ca",
   "metadata": {
    "tags": []
   },
   "outputs": [
    {
     "name": "stdout",
     "output_type": "stream",
     "text": [
      "[-5, 1, 2, 2, 3, 4, 7, 9]\n"
     ]
    }
   ],
   "source": [
    "\"\"\"\n",
    "Sorting Min. to Max,\n",
    "\"\"\"\n",
    "L = [1,2,4,-5,7,9,3,2]\n",
    "for j in range(len(L)):\n",
    "    m = L[j]\n",
    "    idx = j\n",
    "    c = j\n",
    "    for i in range(j,len(L)):\n",
    "        if L[i] < m:\n",
    "            m = L[i]\n",
    "            idx = c\n",
    "        c = c + 1\n",
    "    tmp = L[j]\n",
    "    L[j] = m\n",
    "    L[idx] = tmp\n",
    "print(L)"
   ]
  },
  {
   "cell_type": "code",
   "execution_count": 172,
   "id": "ded76a06-69e1-47ad-bf6a-233e37fc08a3",
   "metadata": {
    "tags": []
   },
   "outputs": [
    {
     "name": "stdout",
     "output_type": "stream",
     "text": [
      "[25, 16, 38, 10, 35, 48, 20]\n",
      "48\n"
     ]
    }
   ],
   "source": [
    "\"\"\"\n",
    "second largest number in array\n",
    "\"\"\"\n",
    "L = [25,16,38,10,35,48,20,50]\n",
    "m = L[0]\n",
    "idx = 0\n",
    "c = 0 \n",
    "for i in L:\n",
    "    if i>m:\n",
    "        m = i\n",
    "        idx = c\n",
    "    c = c+1\n",
    "del L[idx]\n",
    "print (L)\n",
    "secondMax = L[0]\n",
    "for i in L:\n",
    "    if i>secondMax:\n",
    "        secondMax = i\n",
    "print (secondMax)"
   ]
  },
  {
   "cell_type": "code",
   "execution_count": 218,
   "id": "703f9beb-10ec-4227-a2c6-d5aa5f80e1d9",
   "metadata": {
    "tags": []
   },
   "outputs": [
    {
     "name": "stdout",
     "output_type": "stream",
     "text": [
      "25 16\n",
      "48\n"
     ]
    }
   ],
   "source": [
    "\"\"\"\n",
    "second largest number in array\n",
    "\"\"\"\n",
    "L = [25,16,38,10,35,48,20,50]\n",
    "if L[0]<L[1]:\n",
    "    firstmax = L[1]\n",
    "    secondmax = L[0]\n",
    "else:\n",
    "    firstmax = L[0]\n",
    "    secondmax = L[1]\n",
    "print (firstmax, secondmax)\n",
    "\n",
    "for i in range(2,len(L)):\n",
    "    if L[i]>firstmax:\n",
    "        secondmax = firstmax\n",
    "        firstmax = L[i]\n",
    "    else:\n",
    "        if L[i]>secondmax:\n",
    "            secondmax = L[i]\n",
    "print(secondmax)"
   ]
  },
  {
   "cell_type": "markdown",
   "id": "d3235124-1798-4ee2-af90-d7aa53044181",
   "metadata": {},
   "source": [
    "# Functions"
   ]
  },
  {
   "cell_type": "code",
   "execution_count": 221,
   "id": "c8260188-fac8-4665-9165-b0de54e86c6e",
   "metadata": {
    "tags": []
   },
   "outputs": [],
   "source": [
    "def sumoftwo():\n",
    "    a = int(input(\"Enter the first number\"))\n",
    "    b = int(input(\"Enter the second number\"))\n",
    "    c = a + b\n",
    "    print(c)"
   ]
  },
  {
   "cell_type": "code",
   "execution_count": 223,
   "id": "b5a0087b-d92e-4d3e-874d-bbe72cc06cee",
   "metadata": {
    "tags": []
   },
   "outputs": [
    {
     "name": "stdin",
     "output_type": "stream",
     "text": [
      "Enter the first number 5\n",
      "Enter the second number 5\n"
     ]
    },
    {
     "name": "stdout",
     "output_type": "stream",
     "text": [
      "10\n"
     ]
    }
   ],
   "source": [
    "sumoftwo()"
   ]
  },
  {
   "cell_type": "code",
   "execution_count": 261,
   "id": "0f7bd47b-433c-41fd-912d-e573b227bc9d",
   "metadata": {
    "tags": []
   },
   "outputs": [],
   "source": [
    "def printMessage(number):\n",
    "    if number%2 == 0:\n",
    "        print(\"even\")\n",
    "    else:\n",
    "        print(\"odd\")"
   ]
  },
  {
   "cell_type": "code",
   "execution_count": 269,
   "id": "ccebaee2-d80f-48de-847f-3d537a5e4206",
   "metadata": {
    "tags": []
   },
   "outputs": [
    {
     "name": "stdout",
     "output_type": "stream",
     "text": [
      "odd\n"
     ]
    }
   ],
   "source": [
    "printMessage(97)"
   ]
  },
  {
   "cell_type": "code",
   "execution_count": 277,
   "id": "c4e8ad71-17b8-43e0-b741-458f09d2df14",
   "metadata": {
    "tags": []
   },
   "outputs": [],
   "source": [
    "def mysum(a,b):\n",
    "    c = a+b\n",
    "    print(c) "
   ]
  },
  {
   "cell_type": "code",
   "execution_count": 279,
   "id": "47106970-ea7e-49c4-9e86-e28daa96e739",
   "metadata": {
    "tags": []
   },
   "outputs": [
    {
     "name": "stdout",
     "output_type": "stream",
     "text": [
      "7\n"
     ]
    }
   ],
   "source": [
    "mysum(3,4)"
   ]
  },
  {
   "cell_type": "code",
   "execution_count": 27,
   "id": "7b01fe8e-9073-4332-aaaf-f598f25336e1",
   "metadata": {},
   "outputs": [],
   "source": [
    "a = 5\n",
    "def add(a,b):\n",
    "    c = a + b\n",
    "    return(c)"
   ]
  },
  {
   "cell_type": "code",
   "execution_count": 29,
   "id": "c885a198-da79-45a0-954d-35b66135f426",
   "metadata": {
    "tags": []
   },
   "outputs": [
    {
     "data": {
      "text/plain": [
       "6"
      ]
     },
     "execution_count": 29,
     "metadata": {},
     "output_type": "execute_result"
    }
   ],
   "source": [
    "add(2,4)"
   ]
  },
  {
   "cell_type": "code",
   "execution_count": 31,
   "id": "6ebe2eee-dd38-49c6-8606-45ba9331a3f5",
   "metadata": {
    "tags": []
   },
   "outputs": [],
   "source": [
    "def dmulti(a,b):\n",
    "    e = a*b\n",
    "    return e"
   ]
  },
  {
   "cell_type": "code",
   "execution_count": 33,
   "id": "6d59c328-69a2-4960-ad00-987795e09798",
   "metadata": {
    "tags": []
   },
   "outputs": [
    {
     "data": {
      "text/plain": [
       "6"
      ]
     },
     "execution_count": 33,
     "metadata": {},
     "output_type": "execute_result"
    }
   ],
   "source": [
    "dmulti(2,3)"
   ]
  },
  {
   "cell_type": "code",
   "execution_count": 43,
   "id": "31435838-fd8d-41a3-a7d8-62ee8cf4de1d",
   "metadata": {
    "tags": []
   },
   "outputs": [],
   "source": [
    "def unisum(*nums):\n",
    "    s = 0\n",
    "    for i in range(len(nums)):\n",
    "        s = s+nums[i]\n",
    "    return s"
   ]
  },
  {
   "cell_type": "code",
   "execution_count": 45,
   "id": "79d3ed12-759a-4ff5-88fd-ab30676a7c81",
   "metadata": {
    "tags": []
   },
   "outputs": [
    {
     "data": {
      "text/plain": [
       "15"
      ]
     },
     "execution_count": 45,
     "metadata": {},
     "output_type": "execute_result"
    }
   ],
   "source": [
    "unisum(1,2,3,4,5)"
   ]
  },
  {
   "cell_type": "code",
   "execution_count": 49,
   "id": "004bb2b2-24ff-4470-9254-b7c5a1629e38",
   "metadata": {
    "tags": []
   },
   "outputs": [],
   "source": [
    "def variableNameAndValue(**args):\n",
    "    for i in args:\n",
    "        print(\"Variable name is:\", i, \"And Value is:\",args[i])"
   ]
  },
  {
   "cell_type": "code",
   "execution_count": 53,
   "id": "c09a9a42-7d42-4c0e-9d8a-2027e361cb36",
   "metadata": {
    "tags": []
   },
   "outputs": [
    {
     "name": "stdout",
     "output_type": "stream",
     "text": [
      "Variable name is: a And Value is: 1\n",
      "Variable name is: b And Value is: Batman\n",
      "Variable name is: c And Value is: Ironman\n",
      "Variable name is: d And Value is: 0\n"
     ]
    }
   ],
   "source": [
    "variableNameAndValue(a = 1,b = \"Batman\",c = \"Ironman\",d = 0)"
   ]
  },
  {
   "cell_type": "code",
   "execution_count": 22,
   "id": "02d9157c-6105-4565-ae56-0475943df679",
   "metadata": {
    "tags": []
   },
   "outputs": [],
   "source": [
    "# create function to use in other code\n"
   ]
  },
  {
   "cell_type": "markdown",
   "id": "9b72e965-20f4-4ad5-8195-c778ddaee7d4",
   "metadata": {},
   "source": [
    "# Data Structure"
   ]
  },
  {
   "cell_type": "code",
   "execution_count": 16,
   "id": "559b73ee-02fa-4061-9d97-cb39bf6c6dd2",
   "metadata": {
    "tags": []
   },
   "outputs": [],
   "source": [
    "L = [1,2,3,\"name\",3]\n",
    "T = (1,2,3,\"name\",3)\n",
    "S = {1,2,3,\"name\",3} # cannot contain duplicate values\n",
    "D = {25:\"twothrones\",\"b\":45,\"c\":\"ccd\"}"
   ]
  },
  {
   "cell_type": "code",
   "execution_count": 14,
   "id": "d2485f5c-29e1-4006-8e28-c99fd9732abc",
   "metadata": {
    "tags": []
   },
   "outputs": [
    {
     "name": "stdout",
     "output_type": "stream",
     "text": [
      "<class 'list'>\n",
      "<class 'tuple'>\n",
      "<class 'set'>\n",
      "<class 'dict'>\n"
     ]
    }
   ],
   "source": [
    "print(type(L))\n",
    "print(type(T))\n",
    "print(type(S))\n",
    "print(type(D))"
   ]
  },
  {
   "cell_type": "code",
   "execution_count": 20,
   "id": "011099f9-0582-42c4-9e41-4ec52b2b9ed1",
   "metadata": {
    "tags": []
   },
   "outputs": [
    {
     "name": "stdout",
     "output_type": "stream",
     "text": [
      "2\n",
      "2\n",
      "True\n",
      "twothrones\n"
     ]
    }
   ],
   "source": [
    "print(L[1])\n",
    "print(T[1])\n",
    "print(3 in S)\n",
    "print(D[25])"
   ]
  },
  {
   "cell_type": "code",
   "execution_count": 24,
   "id": "19f38fad-1f64-49ea-b9fb-52940a616dbe",
   "metadata": {
    "tags": []
   },
   "outputs": [
    {
     "data": {
      "text/plain": [
       "[1, 2, 3, 'name', 3]"
      ]
     },
     "execution_count": 24,
     "metadata": {},
     "output_type": "execute_result"
    }
   ],
   "source": [
    "L"
   ]
  },
  {
   "cell_type": "code",
   "execution_count": 26,
   "id": "287e4702-821c-4683-9a8a-45a1a8da65c8",
   "metadata": {
    "tags": []
   },
   "outputs": [
    {
     "data": {
      "text/plain": [
       "[2, 3]"
      ]
     },
     "execution_count": 26,
     "metadata": {},
     "output_type": "execute_result"
    }
   ],
   "source": [
    "L[1:3]"
   ]
  },
  {
   "cell_type": "code",
   "execution_count": 28,
   "id": "a936a385-50a9-49f9-bf6f-7d73a91c9143",
   "metadata": {
    "tags": []
   },
   "outputs": [
    {
     "data": {
      "text/plain": [
       "[3, 'name', 3, 2, 1]"
      ]
     },
     "execution_count": 28,
     "metadata": {},
     "output_type": "execute_result"
    }
   ],
   "source": [
    "L[::-1]"
   ]
  },
  {
   "cell_type": "code",
   "execution_count": 30,
   "id": "dc18ad4f-ec7b-466a-ab9e-9d1a53f07e2e",
   "metadata": {
    "tags": []
   },
   "outputs": [],
   "source": [
    "L = L + [\"How\",\"Are\",\"You\"]"
   ]
  },
  {
   "cell_type": "code",
   "execution_count": 32,
   "id": "d8e22581-e71c-4656-ba5e-df70584426a0",
   "metadata": {
    "tags": []
   },
   "outputs": [],
   "source": [
    "L.append(5.1)"
   ]
  },
  {
   "cell_type": "code",
   "execution_count": 34,
   "id": "3f0bb9fa-8853-4f92-9852-2bf98fb2ec11",
   "metadata": {
    "tags": []
   },
   "outputs": [
    {
     "data": {
      "text/plain": [
       "[1, 2, 3, 'name', 3, 'How', 'Are', 'You', 5.1]"
      ]
     },
     "execution_count": 34,
     "metadata": {},
     "output_type": "execute_result"
    }
   ],
   "source": [
    "L"
   ]
  },
  {
   "cell_type": "code",
   "execution_count": 36,
   "id": "58cee8c2-050a-46c8-bc54-b67c3d7204d2",
   "metadata": {
    "tags": []
   },
   "outputs": [],
   "source": [
    "T2 = (5,6,\"are\")"
   ]
  },
  {
   "cell_type": "code",
   "execution_count": 38,
   "id": "5556731f-ff73-4070-b7e0-324945fe5242",
   "metadata": {
    "tags": []
   },
   "outputs": [
    {
     "data": {
      "text/plain": [
       "(1, 2, 3, 'name', 3, 5, 6, 'are')"
      ]
     },
     "execution_count": 38,
     "metadata": {},
     "output_type": "execute_result"
    }
   ],
   "source": [
    "T3 = T + T2\n",
    "T3"
   ]
  },
  {
   "cell_type": "code",
   "execution_count": 40,
   "id": "8be0cfdd-aa62-4e62-8378-2ecc22f71e6c",
   "metadata": {
    "tags": []
   },
   "outputs": [],
   "source": [
    "S.add(5)"
   ]
  },
  {
   "cell_type": "code",
   "execution_count": 46,
   "id": "a52a99f2-bc8b-45fb-b8fb-0b1934c52371",
   "metadata": {
    "tags": []
   },
   "outputs": [],
   "source": [
    "S.update({35,\"are\"})"
   ]
  },
  {
   "cell_type": "code",
   "execution_count": 48,
   "id": "47486e94-34b7-4abf-ae7f-b8a3bbebbc9e",
   "metadata": {
    "tags": []
   },
   "outputs": [
    {
     "data": {
      "text/plain": [
       "{1, 2, 3, 35, 5, 'are', 'name'}"
      ]
     },
     "execution_count": 48,
     "metadata": {},
     "output_type": "execute_result"
    }
   ],
   "source": [
    "S"
   ]
  },
  {
   "cell_type": "code",
   "execution_count": 50,
   "id": "1d4204ff-1b94-4060-b420-419577819e0d",
   "metadata": {
    "tags": []
   },
   "outputs": [],
   "source": [
    "D['Fuss'] = \"play\""
   ]
  },
  {
   "cell_type": "code",
   "execution_count": 52,
   "id": "d87e9656-8f82-4855-b2b8-bbecf16fe580",
   "metadata": {
    "tags": []
   },
   "outputs": [
    {
     "data": {
      "text/plain": [
       "{25: 'twothrones', 'b': 45, 'c': 'ccd', 'Fuss': 'play'}"
      ]
     },
     "execution_count": 52,
     "metadata": {},
     "output_type": "execute_result"
    }
   ],
   "source": [
    "D"
   ]
  },
  {
   "cell_type": "code",
   "execution_count": 54,
   "id": "7f86b433-24ac-4869-9f04-8f81c10b5a2f",
   "metadata": {
    "tags": []
   },
   "outputs": [],
   "source": [
    "D2 = {\"a\":5,\"z\":10}"
   ]
  },
  {
   "cell_type": "code",
   "execution_count": 56,
   "id": "17fd1444-a05e-48e8-b3d0-951b8116ef3c",
   "metadata": {
    "tags": []
   },
   "outputs": [
    {
     "ename": "TypeError",
     "evalue": "unsupported operand type(s) for +: 'dict' and 'dict'",
     "output_type": "error",
     "traceback": [
      "\u001b[0;31m---------------------------------------------------------------------------\u001b[0m",
      "\u001b[0;31mTypeError\u001b[0m                                 Traceback (most recent call last)",
      "Cell \u001b[0;32mIn[56], line 1\u001b[0m\n\u001b[0;32m----> 1\u001b[0m D3 \u001b[38;5;241m=\u001b[39m D \u001b[38;5;241m+\u001b[39m D2\n\u001b[1;32m      2\u001b[0m D3\n",
      "\u001b[0;31mTypeError\u001b[0m: unsupported operand type(s) for +: 'dict' and 'dict'"
     ]
    }
   ],
   "source": [
    "D3 = D + D2\n",
    "D3"
   ]
  },
  {
   "cell_type": "code",
   "execution_count": 58,
   "id": "b9d43a91-1e2e-4ef5-bcb8-7eabbceea9f0",
   "metadata": {
    "tags": []
   },
   "outputs": [],
   "source": [
    "D.update(D2)"
   ]
  },
  {
   "cell_type": "code",
   "execution_count": 60,
   "id": "06258e38-91d6-4ca9-a3d4-44078d330cd9",
   "metadata": {
    "tags": []
   },
   "outputs": [
    {
     "data": {
      "text/plain": [
       "{25: 'twothrones', 'b': 45, 'c': 'ccd', 'Fuss': 'play', 'a': 5, 'z': 10}"
      ]
     },
     "execution_count": 60,
     "metadata": {},
     "output_type": "execute_result"
    }
   ],
   "source": [
    "D"
   ]
  },
  {
   "cell_type": "code",
   "execution_count": 62,
   "id": "2e81514e-d9d4-4be8-9310-ff84a253b156",
   "metadata": {
    "tags": []
   },
   "outputs": [
    {
     "data": {
      "text/plain": [
       "[1, 2, 3, 'name', 3, 'How', 'Are', 'You', 5.1]"
      ]
     },
     "execution_count": 62,
     "metadata": {},
     "output_type": "execute_result"
    }
   ],
   "source": [
    "L"
   ]
  },
  {
   "cell_type": "code",
   "execution_count": 64,
   "id": "4131982e-1304-4a35-9e31-2c6f11e7c849",
   "metadata": {
    "tags": []
   },
   "outputs": [],
   "source": [
    "L2 = L"
   ]
  },
  {
   "cell_type": "code",
   "execution_count": 66,
   "id": "e979c707-b938-4dce-a369-2118e06bac2f",
   "metadata": {
    "tags": []
   },
   "outputs": [
    {
     "data": {
      "text/plain": [
       "[1, 2, 3, 'name', 3, 'How', 'Are', 'You', 5.1]"
      ]
     },
     "execution_count": 66,
     "metadata": {},
     "output_type": "execute_result"
    }
   ],
   "source": [
    "L2"
   ]
  },
  {
   "cell_type": "code",
   "execution_count": 68,
   "id": "1d9e9e17-ff17-40f9-ac2a-4a851d43e1ea",
   "metadata": {
    "tags": []
   },
   "outputs": [],
   "source": [
    "L2[2] = \"5\""
   ]
  },
  {
   "cell_type": "code",
   "execution_count": 70,
   "id": "afe8b15e-58be-45d0-a358-ff0646872a1e",
   "metadata": {
    "tags": []
   },
   "outputs": [
    {
     "data": {
      "text/plain": [
       "[1, 2, '5', 'name', 3, 'How', 'Are', 'You', 5.1]"
      ]
     },
     "execution_count": 70,
     "metadata": {},
     "output_type": "execute_result"
    }
   ],
   "source": [
    "L2"
   ]
  },
  {
   "cell_type": "code",
   "execution_count": 72,
   "id": "b1c14017-7586-4412-9d4a-5ec1c9922efe",
   "metadata": {
    "tags": []
   },
   "outputs": [
    {
     "data": {
      "text/plain": [
       "[1, 2, '5', 'name', 3, 'How', 'Are', 'You', 5.1]"
      ]
     },
     "execution_count": 72,
     "metadata": {},
     "output_type": "execute_result"
    }
   ],
   "source": [
    "L"
   ]
  },
  {
   "cell_type": "code",
   "execution_count": 74,
   "id": "995c560d-804c-4d86-9695-7dcd29d1140a",
   "metadata": {
    "tags": []
   },
   "outputs": [],
   "source": [
    "L2 = L.copy()"
   ]
  },
  {
   "cell_type": "code",
   "execution_count": 76,
   "id": "6406f52b-49de-496d-aa1e-1bf7a60bf0d0",
   "metadata": {
    "tags": []
   },
   "outputs": [
    {
     "data": {
      "text/plain": [
       "[1, 2, '5', 'name', 3, 'How', 'Are', 'You', 5.1]"
      ]
     },
     "execution_count": 76,
     "metadata": {},
     "output_type": "execute_result"
    }
   ],
   "source": [
    "L2"
   ]
  },
  {
   "cell_type": "code",
   "execution_count": 78,
   "id": "70ae5992-b957-4ca8-9bec-ffa7c5f7a5d8",
   "metadata": {
    "tags": []
   },
   "outputs": [],
   "source": [
    "L2[3] = \"PY\""
   ]
  },
  {
   "cell_type": "code",
   "execution_count": 80,
   "id": "24969412-d8cc-4cd7-9093-2328dbf67a6f",
   "metadata": {
    "tags": []
   },
   "outputs": [
    {
     "data": {
      "text/plain": [
       "[1, 2, '5', 'PY', 3, 'How', 'Are', 'You', 5.1]"
      ]
     },
     "execution_count": 80,
     "metadata": {},
     "output_type": "execute_result"
    }
   ],
   "source": [
    "L2"
   ]
  },
  {
   "cell_type": "code",
   "execution_count": 82,
   "id": "d8e3eec4-6083-403f-a242-82d180307624",
   "metadata": {
    "tags": []
   },
   "outputs": [
    {
     "data": {
      "text/plain": [
       "[1, 2, '5', 'name', 3, 'How', 'Are', 'You', 5.1]"
      ]
     },
     "execution_count": 82,
     "metadata": {},
     "output_type": "execute_result"
    }
   ],
   "source": [
    "L"
   ]
  },
  {
   "cell_type": "code",
   "execution_count": 84,
   "id": "a54cb95c-062f-4a3a-b46c-90b4174298eb",
   "metadata": {
    "tags": []
   },
   "outputs": [],
   "source": [
    "L3 = L[1:5]"
   ]
  },
  {
   "cell_type": "code",
   "execution_count": 86,
   "id": "8074d890-6b89-49ef-bd0d-843e176f564b",
   "metadata": {
    "tags": []
   },
   "outputs": [
    {
     "data": {
      "text/plain": [
       "[2, '5', 'name', 3]"
      ]
     },
     "execution_count": 86,
     "metadata": {},
     "output_type": "execute_result"
    }
   ],
   "source": [
    "L3"
   ]
  },
  {
   "cell_type": "code",
   "execution_count": 98,
   "id": "82ec6a26-c628-4542-9b9e-7c2cb825e2ff",
   "metadata": {
    "tags": []
   },
   "outputs": [
    {
     "data": {
      "text/plain": [
       "[0, 1, 4, 9, 16, 25, 36, 49, 64, 81]"
      ]
     },
     "execution_count": 98,
     "metadata": {},
     "output_type": "execute_result"
    }
   ],
   "source": [
    "L3 = [x**2 for x in range (10)]\n",
    "L3"
   ]
  },
  {
   "cell_type": "code",
   "execution_count": null,
   "id": "2ec72952-c243-4c53-b533-6d1975858601",
   "metadata": {},
   "outputs": [],
   "source": [
    "\"\"\"\n",
    "Let say you are a teacher and you have different student records containing id of \n",
    "a student and the marks list in a eac subject where different students have taken\n",
    "different number of subjects. All these records are in hard copy. You want to enter\n",
    "all data in computer and want to compute the average marks of each students and display.\n",
    "\"\"\"\n",
    "\n"
   ]
  },
  {
   "cell_type": "markdown",
   "id": "33abbee6-2a4e-41c9-9027-decab92207a8",
   "metadata": {},
   "source": [
    "# Numpy"
   ]
  },
  {
   "cell_type": "code",
   "execution_count": 2,
   "id": "f6f68377-ca20-44aa-b627-6092bc9f28aa",
   "metadata": {
    "tags": []
   },
   "outputs": [],
   "source": [
    "import numpy as np"
   ]
  },
  {
   "cell_type": "code",
   "execution_count": 4,
   "id": "d4f78bb1-08f6-47bc-a58e-941d940f13b6",
   "metadata": {
    "tags": []
   },
   "outputs": [],
   "source": [
    "a = np.array([1,2,3,4,5])\n",
    "b = np.array((6,7,8))"
   ]
  },
  {
   "cell_type": "code",
   "execution_count": 14,
   "id": "21c33b28-b171-431a-b130-f51459601308",
   "metadata": {
    "tags": []
   },
   "outputs": [
    {
     "data": {
      "text/plain": [
       "numpy.ndarray"
      ]
     },
     "execution_count": 14,
     "metadata": {},
     "output_type": "execute_result"
    }
   ],
   "source": [
    "type(a)"
   ]
  },
  {
   "cell_type": "code",
   "execution_count": 18,
   "id": "8755deb7-b03e-40e0-b27b-73778575052f",
   "metadata": {
    "tags": []
   },
   "outputs": [
    {
     "data": {
      "text/plain": [
       "numpy.ndarray"
      ]
     },
     "execution_count": 18,
     "metadata": {},
     "output_type": "execute_result"
    }
   ],
   "source": [
    "type(b)"
   ]
  },
  {
   "cell_type": "code",
   "execution_count": 20,
   "id": "e1ba0a1e-aa9d-472d-b6d7-82fdc78cd9d4",
   "metadata": {
    "tags": []
   },
   "outputs": [],
   "source": [
    "a = np.array([[1,2,3],[4,5,6]])"
   ]
  },
  {
   "cell_type": "code",
   "execution_count": 22,
   "id": "6ac41188-1c2e-4084-9bd4-61767ef70466",
   "metadata": {
    "tags": []
   },
   "outputs": [
    {
     "data": {
      "text/plain": [
       "2"
      ]
     },
     "execution_count": 22,
     "metadata": {},
     "output_type": "execute_result"
    }
   ],
   "source": [
    "a.ndim"
   ]
  },
  {
   "cell_type": "code",
   "execution_count": 24,
   "id": "406afcdc-008f-49bc-b40b-f5e556a38f15",
   "metadata": {
    "tags": []
   },
   "outputs": [
    {
     "data": {
      "text/plain": [
       "3"
      ]
     },
     "execution_count": 24,
     "metadata": {},
     "output_type": "execute_result"
    }
   ],
   "source": [
    "a[0,2]"
   ]
  },
  {
   "cell_type": "code",
   "execution_count": 28,
   "id": "3d0a8827-5cbb-449d-b65e-848a52fe3f1a",
   "metadata": {
    "tags": []
   },
   "outputs": [
    {
     "data": {
      "text/plain": [
       "6"
      ]
     },
     "execution_count": 28,
     "metadata": {},
     "output_type": "execute_result"
    }
   ],
   "source": [
    "a[1,2]"
   ]
  },
  {
   "cell_type": "code",
   "execution_count": 42,
   "id": "49b723f5-1686-449c-a1a8-647395988e78",
   "metadata": {
    "tags": []
   },
   "outputs": [],
   "source": [
    "B = np.array([[1,2,3],[4,5,6]])"
   ]
  },
  {
   "cell_type": "code",
   "execution_count": 44,
   "id": "edf23a8f-b53d-4a64-832d-77ad4a93d8f8",
   "metadata": {
    "tags": []
   },
   "outputs": [
    {
     "data": {
      "text/plain": [
       "2"
      ]
     },
     "execution_count": 44,
     "metadata": {},
     "output_type": "execute_result"
    }
   ],
   "source": [
    "B.ndim"
   ]
  },
  {
   "cell_type": "code",
   "execution_count": 46,
   "id": "aef4802d-badb-4dda-b732-7d73047729de",
   "metadata": {
    "tags": []
   },
   "outputs": [
    {
     "data": {
      "text/plain": [
       "5"
      ]
     },
     "execution_count": 46,
     "metadata": {},
     "output_type": "execute_result"
    }
   ],
   "source": [
    "B[1,1]"
   ]
  },
  {
   "cell_type": "code",
   "execution_count": 48,
   "id": "7a4f1136-5318-4288-9f41-0731a20ea5c9",
   "metadata": {
    "tags": []
   },
   "outputs": [],
   "source": [
    "A = np.arange(10)"
   ]
  },
  {
   "cell_type": "code",
   "execution_count": 52,
   "id": "aa01fb41-2229-4f5b-a405-609fd462228f",
   "metadata": {
    "tags": []
   },
   "outputs": [
    {
     "name": "stdout",
     "output_type": "stream",
     "text": [
      "[0 1 2 3 4 5 6 7 8 9]\n"
     ]
    }
   ],
   "source": [
    "print (A)"
   ]
  },
  {
   "cell_type": "code",
   "execution_count": 72,
   "id": "1ec99731-8b83-4f6e-be23-7a75ccba6f8e",
   "metadata": {
    "tags": []
   },
   "outputs": [],
   "source": [
    "A = np.arange(20,100,3) #for i in range(20,100,3)"
   ]
  },
  {
   "cell_type": "code",
   "execution_count": 70,
   "id": "4ad94c4c-d993-445a-9566-8233e20c7069",
   "metadata": {
    "tags": []
   },
   "outputs": [
    {
     "name": "stdout",
     "output_type": "stream",
     "text": [
      "[20 23 26 29 32 35 38 41 44 47 50 53 56 59 62 65 68 71 74 77 80 83 86 89\n",
      " 92 95 98]\n"
     ]
    }
   ],
   "source": [
    "print (A)"
   ]
  },
  {
   "cell_type": "code",
   "execution_count": 74,
   "id": "580ff2e6-aaa6-4a2c-bfd4-aef07b426eb6",
   "metadata": {
    "tags": []
   },
   "outputs": [
    {
     "name": "stdout",
     "output_type": "stream",
     "text": [
      "[0 3 6 4 8 7 1 9 5 2]\n"
     ]
    }
   ],
   "source": [
    "A = np.random.permutation(np.arange(10))\n",
    "print (A)"
   ]
  },
  {
   "cell_type": "code",
   "execution_count": 80,
   "id": "a16ac4fd-335b-419a-94a9-409c5cc10786",
   "metadata": {
    "tags": []
   },
   "outputs": [
    {
     "data": {
      "text/plain": [
       "68"
      ]
     },
     "execution_count": 80,
     "metadata": {},
     "output_type": "execute_result"
    }
   ],
   "source": [
    "np.random.randint(0,99)"
   ]
  },
  {
   "cell_type": "code",
   "execution_count": 83,
   "id": "14d2aa6e-d768-4ab0-be1d-5b251efe0386",
   "metadata": {
    "tags": []
   },
   "outputs": [],
   "source": [
    " import matplotlib.pyplot as plt"
   ]
  },
  {
   "cell_type": "code",
   "execution_count": 85,
   "id": "2976457b-b2be-4c3a-8d80-115ee0eda1bf",
   "metadata": {
    "tags": []
   },
   "outputs": [],
   "source": [
    "A = np.random.rand(1000)"
   ]
  },
  {
   "cell_type": "code",
   "execution_count": 91,
   "id": "c565ca71-10bd-499e-888d-cc54df0f4443",
   "metadata": {
    "tags": []
   },
   "outputs": [
    {
     "data": {
      "text/plain": [
       "(array([ 8., 12.,  8., 12., 17.,  7.,  8.,  5.,  7.,  8., 11.,  9., 10.,\n",
       "        13.,  6., 11., 10., 10.,  6., 15.,  9.,  7.,  7.,  9.,  7., 13.,\n",
       "        18., 15.,  8., 10.,  7., 10.,  8.,  6.,  7., 11., 11.,  8., 11.,\n",
       "        11.,  8.,  8.,  9., 12., 12.,  6., 12.,  9.,  5., 15.,  8., 16.,\n",
       "        12., 11.,  9., 15., 19.,  8., 14., 13.,  8., 20., 11.,  9., 15.,\n",
       "         9., 12.,  5., 11.,  7., 14.,  7.,  7.,  7., 10.,  9., 11., 12.,\n",
       "         4., 11.,  8.,  6., 13.,  7.,  8., 12., 11., 10.,  8.,  7.,  6.,\n",
       "         7.,  5., 14., 10., 16.,  7., 16., 13., 10.]),\n",
       " array([2.74084599e-04, 1.02557247e-02, 2.02373649e-02, 3.02190050e-02,\n",
       "        4.02006452e-02, 5.01822853e-02, 6.01639255e-02, 7.01455657e-02,\n",
       "        8.01272058e-02, 9.01088460e-02, 1.00090486e-01, 1.10072126e-01,\n",
       "        1.20053766e-01, 1.30035407e-01, 1.40017047e-01, 1.49998687e-01,\n",
       "        1.59980327e-01, 1.69961967e-01, 1.79943607e-01, 1.89925247e-01,\n",
       "        1.99906888e-01, 2.09888528e-01, 2.19870168e-01, 2.29851808e-01,\n",
       "        2.39833448e-01, 2.49815088e-01, 2.59796729e-01, 2.69778369e-01,\n",
       "        2.79760009e-01, 2.89741649e-01, 2.99723289e-01, 3.09704929e-01,\n",
       "        3.19686569e-01, 3.29668210e-01, 3.39649850e-01, 3.49631490e-01,\n",
       "        3.59613130e-01, 3.69594770e-01, 3.79576410e-01, 3.89558050e-01,\n",
       "        3.99539691e-01, 4.09521331e-01, 4.19502971e-01, 4.29484611e-01,\n",
       "        4.39466251e-01, 4.49447891e-01, 4.59429532e-01, 4.69411172e-01,\n",
       "        4.79392812e-01, 4.89374452e-01, 4.99356092e-01, 5.09337732e-01,\n",
       "        5.19319372e-01, 5.29301013e-01, 5.39282653e-01, 5.49264293e-01,\n",
       "        5.59245933e-01, 5.69227573e-01, 5.79209213e-01, 5.89190853e-01,\n",
       "        5.99172494e-01, 6.09154134e-01, 6.19135774e-01, 6.29117414e-01,\n",
       "        6.39099054e-01, 6.49080694e-01, 6.59062335e-01, 6.69043975e-01,\n",
       "        6.79025615e-01, 6.89007255e-01, 6.98988895e-01, 7.08970535e-01,\n",
       "        7.18952175e-01, 7.28933816e-01, 7.38915456e-01, 7.48897096e-01,\n",
       "        7.58878736e-01, 7.68860376e-01, 7.78842016e-01, 7.88823656e-01,\n",
       "        7.98805297e-01, 8.08786937e-01, 8.18768577e-01, 8.28750217e-01,\n",
       "        8.38731857e-01, 8.48713497e-01, 8.58695138e-01, 8.68676778e-01,\n",
       "        8.78658418e-01, 8.88640058e-01, 8.98621698e-01, 9.08603338e-01,\n",
       "        9.18584978e-01, 9.28566619e-01, 9.38548259e-01, 9.48529899e-01,\n",
       "        9.58511539e-01, 9.68493179e-01, 9.78474819e-01, 9.88456459e-01,\n",
       "        9.98438100e-01]),\n",
       " <BarContainer object of 100 artists>)"
      ]
     },
     "execution_count": 91,
     "metadata": {},
     "output_type": "execute_result"
    },
    {
     "data": {
      "image/png": "[encoded data removed]",
      "text/plain": [
       "<Figure size 640x480 with 1 Axes>"
      ]
     },
     "metadata": {},
     "output_type": "display_data"
    }
   ],
   "source": [
    "plt.hist(A,bins = 100)"
   ]
  },
  {
   "cell_type": "code",
   "execution_count": 105,
   "id": "bab42799-f0fe-4bff-95b8-232f356be69c",
   "metadata": {
    "tags": []
   },
   "outputs": [
    {
     "data": {
      "text/plain": [
       "(array([ 1.,  0.,  1.,  1.,  2.,  7.,  7., 11.,  9., 12.,  9., 13.,  9.,\n",
       "         7.,  6.,  2.,  1.,  1.,  0.,  1.]),\n",
       " array([-3.17434632, -2.85784039, -2.54133445, -2.22482851, -1.90832257,\n",
       "        -1.59181664, -1.2753107 , -0.95880476, -0.64229882, -0.32579289,\n",
       "        -0.00928695,  0.30721899,  0.62372493,  0.94023087,  1.2567368 ,\n",
       "         1.57324274,  1.88974868,  2.20625462,  2.52276055,  2.83926649,\n",
       "         3.15577243]),\n",
       " <BarContainer object of 20 artists>)"
      ]
     },
     "execution_count": 105,
     "metadata": {},
     "output_type": "execute_result"
    },
    {
     "data": {
      "image/png": "[encoded data removed]",
      "text/plain": [
       "<Figure size 640x480 with 1 Axes>"
      ]
     },
     "metadata": {},
     "output_type": "display_data"
    }
   ],
   "source": [
    "B = np.random.randn(100)\n",
    "plt.hist(B, bins = 20)"
   ]
  },
  {
   "cell_type": "code",
   "execution_count": 107,
   "id": "4c52654c-b040-4240-bd80-ba37a5bdb487",
   "metadata": {
    "tags": []
   },
   "outputs": [],
   "source": [
    "c = np.random.rand(2,3,4)"
   ]
  },
  {
   "cell_type": "code",
   "execution_count": 109,
   "id": "3cbcdc0c-cf90-49c6-b57e-5d5881469e3f",
   "metadata": {
    "tags": []
   },
   "outputs": [
    {
     "data": {
      "text/plain": [
       "3"
      ]
     },
     "execution_count": 109,
     "metadata": {},
     "output_type": "execute_result"
    }
   ],
   "source": [
    "c.ndim"
   ]
  },
  {
   "cell_type": "code",
   "execution_count": 111,
   "id": "05e12e2b-3e7c-4fbb-9670-21a9e8094460",
   "metadata": {
    "tags": []
   },
   "outputs": [
    {
     "name": "stdout",
     "output_type": "stream",
     "text": [
      "[[[0.45479191 0.64885861 0.5712754  0.7225565 ]\n",
      "  [0.72344071 0.59271295 0.64930189 0.19104044]\n",
      "  [0.47715842 0.73497922 0.49271266 0.08148014]]\n",
      "\n",
      " [[0.27467687 0.079962   0.20533566 0.86452732]\n",
      "  [0.4205432  0.37348369 0.91262325 0.46629099]\n",
      "  [0.84921877 0.34334934 0.16668455 0.09242309]]]\n"
     ]
    }
   ],
   "source": [
    "print(c)"
   ]
  },
  {
   "cell_type": "code",
   "execution_count": 113,
   "id": "a93c1aa8-0ff8-4aef-8688-d39dba856198",
   "metadata": {
    "tags": []
   },
   "outputs": [],
   "source": [
    " a = np.arange(100) "
   ]
  },
  {
   "cell_type": "code",
   "execution_count": 117,
   "id": "67bf21ea-0206-49ed-8bca-3509bee1393a",
   "metadata": {
    "tags": []
   },
   "outputs": [
    {
     "name": "stdout",
     "output_type": "stream",
     "text": [
      "[3 4 5 6 7 8 9]\n"
     ]
    }
   ],
   "source": [
    "b = a[3:10]\n",
    "print(b)"
   ]
  },
  {
   "cell_type": "code",
   "execution_count": 119,
   "id": "722d56da-3647-49c0-aeb9-bd9614025c58",
   "metadata": {
    "tags": []
   },
   "outputs": [],
   "source": [
    "b[0] = -1200"
   ]
  },
  {
   "cell_type": "code",
   "execution_count": 121,
   "id": "b777c388-8207-4a31-a75c-e36429445b2d",
   "metadata": {
    "tags": []
   },
   "outputs": [
    {
     "data": {
      "text/plain": [
       "array([-1200,     4,     5,     6,     7,     8,     9])"
      ]
     },
     "execution_count": 121,
     "metadata": {},
     "output_type": "execute_result"
    }
   ],
   "source": [
    "b"
   ]
  },
  {
   "cell_type": "code",
   "execution_count": 123,
   "id": "52a09d36-d07c-433c-99ed-7e8baee8c517",
   "metadata": {
    "tags": []
   },
   "outputs": [
    {
     "data": {
      "text/plain": [
       "array([    0,     1,     2, -1200,     4,     5,     6,     7,     8,\n",
       "           9,    10,    11,    12,    13,    14,    15,    16,    17,\n",
       "          18,    19,    20,    21,    22,    23,    24,    25,    26,\n",
       "          27,    28,    29,    30,    31,    32,    33,    34,    35,\n",
       "          36,    37,    38,    39,    40,    41,    42,    43,    44,\n",
       "          45,    46,    47,    48,    49,    50,    51,    52,    53,\n",
       "          54,    55,    56,    57,    58,    59,    60,    61,    62,\n",
       "          63,    64,    65,    66,    67,    68,    69,    70,    71,\n",
       "          72,    73,    74,    75,    76,    77,    78,    79,    80,\n",
       "          81,    82,    83,    84,    85,    86,    87,    88,    89,\n",
       "          90,    91,    92,    93,    94,    95,    96,    97,    98,\n",
       "          99])"
      ]
     },
     "execution_count": 123,
     "metadata": {},
     "output_type": "execute_result"
    }
   ],
   "source": [
    "a"
   ]
  },
  {
   "cell_type": "code",
   "execution_count": 125,
   "id": "f2a34a05-7d40-45f6-8d3d-c4edaa0b647c",
   "metadata": {
    "tags": []
   },
   "outputs": [],
   "source": [
    "b = a[3:10].copy()"
   ]
  },
  {
   "cell_type": "code",
   "execution_count": 147,
   "id": "369915fc-13b7-4cef-83e7-39981d5f55df",
   "metadata": {
    "tags": []
   },
   "outputs": [
    {
     "name": "stdout",
     "output_type": "stream",
     "text": [
      "3\n"
     ]
    }
   ],
   "source": [
    "idx = np.argwhere(a == -1200)[0][0]\n",
    "print (idx)"
   ]
  },
  {
   "cell_type": "code",
   "execution_count": 149,
   "id": "8e77b6b9-6abb-4389-b70d-8db4d3a62072",
   "metadata": {
    "tags": []
   },
   "outputs": [],
   "source": [
    "A = np.round(10*np.random.rand(5,4))"
   ]
  },
  {
   "cell_type": "code",
   "execution_count": 151,
   "id": "3359329e-6160-444f-b689-69da7a61ca63",
   "metadata": {
    "tags": []
   },
   "outputs": [
    {
     "data": {
      "text/plain": [
       "array([[ 9.,  6.,  8.,  1.],\n",
       "       [ 8.,  2.,  8.,  8.],\n",
       "       [ 1.,  3.,  2.,  4.],\n",
       "       [ 2.,  6.,  9., 10.],\n",
       "       [ 6.,  8.,  8.,  0.]])"
      ]
     },
     "execution_count": 151,
     "metadata": {},
     "output_type": "execute_result"
    }
   ],
   "source": [
    "A"
   ]
  },
  {
   "cell_type": "code",
   "execution_count": 155,
   "id": "0c559d74-2222-4353-b5d7-07460629386b",
   "metadata": {
    "tags": []
   },
   "outputs": [
    {
     "data": {
      "text/plain": [
       "2.0"
      ]
     },
     "execution_count": 155,
     "metadata": {},
     "output_type": "execute_result"
    }
   ],
   "source": [
    "A[1,1]"
   ]
  },
  {
   "cell_type": "code",
   "execution_count": 157,
   "id": "72371c46-771f-4d78-90d2-fd4064dae497",
   "metadata": {
    "tags": []
   },
   "outputs": [
    {
     "data": {
      "text/plain": [
       "array([[ 9.,  8.,  1.,  2.,  6.],\n",
       "       [ 6.,  2.,  3.,  6.,  8.],\n",
       "       [ 8.,  8.,  2.,  9.,  8.],\n",
       "       [ 1.,  8.,  4., 10.,  0.]])"
      ]
     },
     "execution_count": 157,
     "metadata": {},
     "output_type": "execute_result"
    }
   ],
   "source": [
    "A.T"
   ]
  },
  {
   "cell_type": "code",
   "execution_count": 161,
   "id": "c7537a28-8749-4667-8cc9-f0e1dd7867e2",
   "metadata": {
    "tags": []
   },
   "outputs": [
    {
     "data": {
      "text/plain": [
       "array([[ 1.,  2.,  2.,  0.],\n",
       "       [ 2.,  3.,  8.,  1.],\n",
       "       [ 6.,  6.,  8.,  4.],\n",
       "       [ 8.,  6.,  8.,  8.],\n",
       "       [ 9.,  8.,  9., 10.]])"
      ]
     },
     "execution_count": 161,
     "metadata": {},
     "output_type": "execute_result"
    }
   ],
   "source": [
    "A.sort(axis=0)\n",
    "A"
   ]
  },
  {
   "cell_type": "code",
   "execution_count": 163,
   "id": "590baea5-e996-4f43-adb6-8e0a5f33b239",
   "metadata": {
    "tags": []
   },
   "outputs": [
    {
     "data": {
      "text/plain": [
       "array([[ 0.,  1.,  2.,  2.],\n",
       "       [ 1.,  2.,  3.,  8.],\n",
       "       [ 4.,  6.,  6.,  8.],\n",
       "       [ 6.,  8.,  8.,  8.],\n",
       "       [ 8.,  9.,  9., 10.]])"
      ]
     },
     "execution_count": 163,
     "metadata": {},
     "output_type": "execute_result"
    }
   ],
   "source": [
    "A.sort(axis=1)\n",
    "A"
   ]
  },
  {
   "cell_type": "code",
   "execution_count": 167,
   "id": "aa4f7597-e5f6-49b0-8218-7758616e2db2",
   "metadata": {
    "tags": []
   },
   "outputs": [
    {
     "name": "stdout",
     "output_type": "stream",
     "text": [
      "[    0     1     2 -1200     4     5     6     7]\n"
     ]
    }
   ],
   "source": [
    "c = a[a<8]\n",
    "print (c)"
   ]
  },
  {
   "cell_type": "code",
   "execution_count": 169,
   "id": "95c85d44-54c2-4d18-970a-f399784ee472",
   "metadata": {
    "tags": []
   },
   "outputs": [],
   "source": [
    "#&, and\n",
    "#/, or"
   ]
  },
  {
   "cell_type": "code",
   "execution_count": 171,
   "id": "4b4d16f8-4e98-4dc1-abfc-c7d936c13888",
   "metadata": {
    "tags": []
   },
   "outputs": [],
   "source": [
    "A = np.round(10*np.random.rand(2,3))"
   ]
  },
  {
   "cell_type": "code",
   "execution_count": 173,
   "id": "a32b890d-1d1b-4710-8578-97511b99a2d9",
   "metadata": {
    "tags": []
   },
   "outputs": [
    {
     "data": {
      "text/plain": [
       "array([[4., 4., 7.],\n",
       "       [9., 4., 7.]])"
      ]
     },
     "execution_count": 173,
     "metadata": {},
     "output_type": "execute_result"
    }
   ],
   "source": [
    "A"
   ]
  },
  {
   "cell_type": "code",
   "execution_count": 175,
   "id": "10270418-e7ea-4626-958b-8e2207b37591",
   "metadata": {
    "tags": []
   },
   "outputs": [
    {
     "data": {
      "text/plain": [
       "array([[ 6.,  6.,  9.],\n",
       "       [11.,  6.,  9.]])"
      ]
     },
     "execution_count": 175,
     "metadata": {},
     "output_type": "execute_result"
    }
   ],
   "source": [
    "A+2"
   ]
  },
  {
   "cell_type": "code",
   "execution_count": 177,
   "id": "8eaa4e41-9d62-4e35-b882-843f0c2fc7c3",
   "metadata": {
    "tags": []
   },
   "outputs": [
    {
     "data": {
      "text/plain": [
       "array([[ 4.,  4.,  7.],\n",
       "       [10.,  5.,  8.]])"
      ]
     },
     "execution_count": 177,
     "metadata": {},
     "output_type": "execute_result"
    }
   ],
   "source": [
    "A+(np.arange(2).reshape(2,1))\n"
   ]
  },
  {
   "cell_type": "markdown",
   "id": "f18abcf6-9ac4-41a5-b82d-21d9048dcb1f",
   "metadata": {},
   "source": [
    "# Speed of Universal Function"
   ]
  },
  {
   "cell_type": "code",
   "execution_count": 180,
   "id": "47dbee17-2398-4c13-95f0-f9e67fa1df30",
   "metadata": {
    "tags": []
   },
   "outputs": [],
   "source": [
    "B = np.random.rand(10000000)"
   ]
  },
  {
   "cell_type": "code",
   "execution_count": 182,
   "id": "e5ec0c0a-8b85-4831-9ba4-cf8f8e83be02",
   "metadata": {
    "tags": []
   },
   "outputs": [
    {
     "name": "stdout",
     "output_type": "stream",
     "text": [
      "334 ms ± 13.9 ms per loop (mean ± std. dev. of 7 runs, 1 loop each)\n",
      "1.48 ms ± 33.3 µs per loop (mean ± std. dev. of 7 runs, 1,000 loops each)\n"
     ]
    }
   ],
   "source": [
    "%timeit sum(B)\n",
    "%timeit np.sum(B)  # B.sum()"
   ]
  },
  {
   "cell_type": "code",
   "execution_count": 1,
   "id": "0d09cb9e-c872-4644-9cdd-4e800471f77b",
   "metadata": {},
   "outputs": [],
   "source": [
    "import pandas as pd"
   ]
  },
  {
   "cell_type": "code",
   "execution_count": 3,
   "id": "0ceb2dd9-08f8-4afe-8e19-f76e38100db3",
   "metadata": {
    "tags": []
   },
   "outputs": [
    {
     "name": "stdout",
     "output_type": "stream",
     "text": [
      "2.1.4\n"
     ]
    }
   ],
   "source": [
    "print(pd.__version__)"
   ]
  },
  {
   "cell_type": "code",
   "execution_count": 11,
   "id": "1b064e5b-8396-446f-a85e-175e91bf69dd",
   "metadata": {
    "tags": []
   },
   "outputs": [],
   "source": [
    "A = pd.Series([2,3,4,5],index = ['b','c','d','e'])"
   ]
  },
  {
   "cell_type": "code",
   "execution_count": 15,
   "id": "59614b7d-fb5c-4d34-b41b-18fffc2a4eec",
   "metadata": {
    "tags": []
   },
   "outputs": [
    {
     "data": {
      "text/plain": [
       "numpy.ndarray"
      ]
     },
     "execution_count": 15,
     "metadata": {},
     "output_type": "execute_result"
    }
   ],
   "source": [
    "type( A.values)"
   ]
  },
  {
   "cell_type": "code",
   "execution_count": 17,
   "id": "ac68b4b3-70e0-4b72-a22e-6939549ab622",
   "metadata": {
    "tags": []
   },
   "outputs": [
    {
     "data": {
      "text/plain": [
       "pandas.core.series.Series"
      ]
     },
     "execution_count": 17,
     "metadata": {},
     "output_type": "execute_result"
    }
   ],
   "source": [
    "type(A)"
   ]
  },
  {
   "cell_type": "code",
   "execution_count": 19,
   "id": "f4ad75d9-0e8c-4acd-a24e-23074caa285a",
   "metadata": {
    "tags": []
   },
   "outputs": [
    {
     "data": {
      "text/plain": [
       "Index(['b', 'c', 'd', 'e'], dtype='object')"
      ]
     },
     "execution_count": 19,
     "metadata": {},
     "output_type": "execute_result"
    }
   ],
   "source": [
    "A.index"
   ]
  },
  {
   "cell_type": "code",
   "execution_count": 21,
   "id": "1fac9f95-ec12-4f6a-b11a-834871487e58",
   "metadata": {
    "tags": []
   },
   "outputs": [
    {
     "data": {
      "text/plain": [
       "3"
      ]
     },
     "execution_count": 21,
     "metadata": {},
     "output_type": "execute_result"
    }
   ],
   "source": [
    "A['c']"
   ]
  },
  {
   "cell_type": "code",
   "execution_count": 25,
   "id": "8b24b7a9-57c3-4b08-bf05-1c7747f385a3",
   "metadata": {
    "tags": []
   },
   "outputs": [],
   "source": [
    "grades_Dict = {'A':4,'A-':3.5,'B':3,'B-':2.5}\n",
    "grads = pd.Series(grades_Dict)"
   ]
  },
  {
   "cell_type": "code",
   "execution_count": 29,
   "id": "4c900298-c06f-4e8e-aac2-b564ef662c78",
   "metadata": {
    "tags": []
   },
   "outputs": [
    {
     "data": {
      "text/plain": [
       "array([4. , 3.5, 3. , 2.5])"
      ]
     },
     "execution_count": 29,
     "metadata": {},
     "output_type": "execute_result"
    }
   ],
   "source": [
    "grads.values"
   ]
  },
  {
   "cell_type": "code",
   "execution_count": 31,
   "id": "20682e00-d6a8-499c-9e48-ef37026dca47",
   "metadata": {
    "tags": []
   },
   "outputs": [
    {
     "data": {
      "text/plain": [
       "A     4.0\n",
       "A-    3.5\n",
       "B     3.0\n",
       "B-    2.5\n",
       "dtype: float64"
      ]
     },
     "execution_count": 31,
     "metadata": {},
     "output_type": "execute_result"
    }
   ],
   "source": [
    "grads"
   ]
  },
  {
   "cell_type": "code",
   "execution_count": 33,
   "id": "c832f68a-1c7d-46bf-8727-c72be164d39f",
   "metadata": {
    "tags": []
   },
   "outputs": [],
   "source": [
    "marks_Dict = {'A':90,'A-':85,'B':75,'B-':65}\n",
    "marks = pd.Series(marks_Dict)"
   ]
  },
  {
   "cell_type": "code",
   "execution_count": 35,
   "id": "507c96f9-bfb3-45d9-9953-20f984a9753a",
   "metadata": {
    "tags": []
   },
   "outputs": [
    {
     "data": {
      "text/plain": [
       "A     90\n",
       "A-    85\n",
       "B     75\n",
       "B-    65\n",
       "dtype: int64"
      ]
     },
     "execution_count": 35,
     "metadata": {},
     "output_type": "execute_result"
    }
   ],
   "source": [
    "marks"
   ]
  },
  {
   "cell_type": "code",
   "execution_count": 39,
   "id": "be895dd8-7e3b-474e-aa32-eac0e68975c6",
   "metadata": {
    "tags": []
   },
   "outputs": [
    {
     "data": {
      "text/html": [
       "<div>\n",
       "<style scoped>\n",
       "    .dataframe tbody tr th:only-of-type {\n",
       "        vertical-align: middle;\n",
       "    }\n",
       "\n",
       "    .dataframe tbody tr th {\n",
       "        vertical-align: top;\n",
       "    }\n",
       "\n",
       "    .dataframe thead th {\n",
       "        text-align: right;\n",
       "    }\n",
       "</style>\n",
       "<table border=\"1\" class=\"dataframe\">\n",
       "  <thead>\n",
       "    <tr style=\"text-align: right;\">\n",
       "      <th></th>\n",
       "      <th>Grades</th>\n",
       "      <th>Marks</th>\n",
       "    </tr>\n",
       "  </thead>\n",
       "  <tbody>\n",
       "    <tr>\n",
       "      <th>A</th>\n",
       "      <td>4.0</td>\n",
       "      <td>90</td>\n",
       "    </tr>\n",
       "    <tr>\n",
       "      <th>A-</th>\n",
       "      <td>3.5</td>\n",
       "      <td>85</td>\n",
       "    </tr>\n",
       "    <tr>\n",
       "      <th>B</th>\n",
       "      <td>3.0</td>\n",
       "      <td>75</td>\n",
       "    </tr>\n",
       "    <tr>\n",
       "      <th>B-</th>\n",
       "      <td>2.5</td>\n",
       "      <td>65</td>\n",
       "    </tr>\n",
       "  </tbody>\n",
       "</table>\n",
       "</div>"
      ],
      "text/plain": [
       "    Grades  Marks\n",
       "A      4.0     90\n",
       "A-     3.5     85\n",
       "B      3.0     75\n",
       "B-     2.5     65"
      ]
     },
     "execution_count": 39,
     "metadata": {},
     "output_type": "execute_result"
    }
   ],
   "source": [
    "D = pd.DataFrame({'Grades':grads,'Marks':marks})\n",
    "D"
   ]
  },
  {
   "cell_type": "code",
   "execution_count": 41,
   "id": "8bcb3049-2234-491c-984b-8f89c71756b1",
   "metadata": {
    "tags": []
   },
   "outputs": [
    {
     "data": {
      "text/html": [
       "<div>\n",
       "<style scoped>\n",
       "    .dataframe tbody tr th:only-of-type {\n",
       "        vertical-align: middle;\n",
       "    }\n",
       "\n",
       "    .dataframe tbody tr th {\n",
       "        vertical-align: top;\n",
       "    }\n",
       "\n",
       "    .dataframe thead th {\n",
       "        text-align: right;\n",
       "    }\n",
       "</style>\n",
       "<table border=\"1\" class=\"dataframe\">\n",
       "  <thead>\n",
       "    <tr style=\"text-align: right;\">\n",
       "      <th></th>\n",
       "      <th>A</th>\n",
       "      <th>A-</th>\n",
       "      <th>B</th>\n",
       "      <th>B-</th>\n",
       "    </tr>\n",
       "  </thead>\n",
       "  <tbody>\n",
       "    <tr>\n",
       "      <th>Grades</th>\n",
       "      <td>4.0</td>\n",
       "      <td>3.5</td>\n",
       "      <td>3.0</td>\n",
       "      <td>2.5</td>\n",
       "    </tr>\n",
       "    <tr>\n",
       "      <th>Marks</th>\n",
       "      <td>90.0</td>\n",
       "      <td>85.0</td>\n",
       "      <td>75.0</td>\n",
       "      <td>65.0</td>\n",
       "    </tr>\n",
       "  </tbody>\n",
       "</table>\n",
       "</div>"
      ],
      "text/plain": [
       "           A    A-     B    B-\n",
       "Grades   4.0   3.5   3.0   2.5\n",
       "Marks   90.0  85.0  75.0  65.0"
      ]
     },
     "execution_count": 41,
     "metadata": {},
     "output_type": "execute_result"
    }
   ],
   "source": [
    "D.T"
   ]
  },
  {
   "cell_type": "code",
   "execution_count": 43,
   "id": "80ab189a-326a-4310-a3a5-38840eaa97ec",
   "metadata": {
    "tags": []
   },
   "outputs": [
    {
     "data": {
      "text/plain": [
       "array([[ 4. , 90. ],\n",
       "       [ 3.5, 85. ],\n",
       "       [ 3. , 75. ],\n",
       "       [ 2.5, 65. ]])"
      ]
     },
     "execution_count": 43,
     "metadata": {},
     "output_type": "execute_result"
    }
   ],
   "source": [
    "D.values"
   ]
  },
  {
   "cell_type": "code",
   "execution_count": 47,
   "id": "e3f57212-dffa-40a6-be0c-0cac60241905",
   "metadata": {
    "tags": []
   },
   "outputs": [
    {
     "data": {
      "text/plain": [
       "65.0"
      ]
     },
     "execution_count": 47,
     "metadata": {},
     "output_type": "execute_result"
    }
   ],
   "source": [
    "D.values[3,1]"
   ]
  },
  {
   "cell_type": "code",
   "execution_count": 49,
   "id": "3e4cda56-50e0-4a9d-b294-810317f1b17a",
   "metadata": {
    "tags": []
   },
   "outputs": [
    {
     "data": {
      "text/plain": [
       "Index(['Grades', 'Marks'], dtype='object')"
      ]
     },
     "execution_count": 49,
     "metadata": {},
     "output_type": "execute_result"
    }
   ],
   "source": [
    "D.columns"
   ]
  },
  {
   "cell_type": "code",
   "execution_count": 55,
   "id": "5f07b1c4-92c1-4cc4-b437-f47012780e24",
   "metadata": {
    "tags": []
   },
   "outputs": [],
   "source": [
    "D['ScaledMarks'] = round(100*(D['Marks']/90))"
   ]
  },
  {
   "cell_type": "code",
   "execution_count": 57,
   "id": "60e25022-4121-4a83-8596-35f0f715fe11",
   "metadata": {
    "tags": []
   },
   "outputs": [
    {
     "data": {
      "text/html": [
       "<div>\n",
       "<style scoped>\n",
       "    .dataframe tbody tr th:only-of-type {\n",
       "        vertical-align: middle;\n",
       "    }\n",
       "\n",
       "    .dataframe tbody tr th {\n",
       "        vertical-align: top;\n",
       "    }\n",
       "\n",
       "    .dataframe thead th {\n",
       "        text-align: right;\n",
       "    }\n",
       "</style>\n",
       "<table border=\"1\" class=\"dataframe\">\n",
       "  <thead>\n",
       "    <tr style=\"text-align: right;\">\n",
       "      <th></th>\n",
       "      <th>Grades</th>\n",
       "      <th>Marks</th>\n",
       "      <th>ScaledMarks</th>\n",
       "    </tr>\n",
       "  </thead>\n",
       "  <tbody>\n",
       "    <tr>\n",
       "      <th>A</th>\n",
       "      <td>4.0</td>\n",
       "      <td>90</td>\n",
       "      <td>100.0</td>\n",
       "    </tr>\n",
       "    <tr>\n",
       "      <th>A-</th>\n",
       "      <td>3.5</td>\n",
       "      <td>85</td>\n",
       "      <td>94.0</td>\n",
       "    </tr>\n",
       "    <tr>\n",
       "      <th>B</th>\n",
       "      <td>3.0</td>\n",
       "      <td>75</td>\n",
       "      <td>83.0</td>\n",
       "    </tr>\n",
       "    <tr>\n",
       "      <th>B-</th>\n",
       "      <td>2.5</td>\n",
       "      <td>65</td>\n",
       "      <td>72.0</td>\n",
       "    </tr>\n",
       "  </tbody>\n",
       "</table>\n",
       "</div>"
      ],
      "text/plain": [
       "    Grades  Marks  ScaledMarks\n",
       "A      4.0     90        100.0\n",
       "A-     3.5     85         94.0\n",
       "B      3.0     75         83.0\n",
       "B-     2.5     65         72.0"
      ]
     },
     "execution_count": 57,
     "metadata": {},
     "output_type": "execute_result"
    }
   ],
   "source": [
    "D"
   ]
  },
  {
   "cell_type": "code",
   "execution_count": 59,
   "id": "8b6f846d-aa15-4715-bf47-a534a545cb37",
   "metadata": {
    "tags": []
   },
   "outputs": [],
   "source": [
    "del D['ScaledMarks']"
   ]
  },
  {
   "cell_type": "code",
   "execution_count": 61,
   "id": "a018b84c-6119-426f-8dbc-c0a3d48d86c0",
   "metadata": {
    "tags": []
   },
   "outputs": [
    {
     "data": {
      "text/html": [
       "<div>\n",
       "<style scoped>\n",
       "    .dataframe tbody tr th:only-of-type {\n",
       "        vertical-align: middle;\n",
       "    }\n",
       "\n",
       "    .dataframe tbody tr th {\n",
       "        vertical-align: top;\n",
       "    }\n",
       "\n",
       "    .dataframe thead th {\n",
       "        text-align: right;\n",
       "    }\n",
       "</style>\n",
       "<table border=\"1\" class=\"dataframe\">\n",
       "  <thead>\n",
       "    <tr style=\"text-align: right;\">\n",
       "      <th></th>\n",
       "      <th>Grades</th>\n",
       "      <th>Marks</th>\n",
       "    </tr>\n",
       "  </thead>\n",
       "  <tbody>\n",
       "    <tr>\n",
       "      <th>A</th>\n",
       "      <td>4.0</td>\n",
       "      <td>90</td>\n",
       "    </tr>\n",
       "    <tr>\n",
       "      <th>A-</th>\n",
       "      <td>3.5</td>\n",
       "      <td>85</td>\n",
       "    </tr>\n",
       "    <tr>\n",
       "      <th>B</th>\n",
       "      <td>3.0</td>\n",
       "      <td>75</td>\n",
       "    </tr>\n",
       "    <tr>\n",
       "      <th>B-</th>\n",
       "      <td>2.5</td>\n",
       "      <td>65</td>\n",
       "    </tr>\n",
       "  </tbody>\n",
       "</table>\n",
       "</div>"
      ],
      "text/plain": [
       "    Grades  Marks\n",
       "A      4.0     90\n",
       "A-     3.5     85\n",
       "B      3.0     75\n",
       "B-     2.5     65"
      ]
     },
     "execution_count": 61,
     "metadata": {},
     "output_type": "execute_result"
    }
   ],
   "source": [
    "D"
   ]
  },
  {
   "cell_type": "code",
   "execution_count": 63,
   "id": "e44cb441-554b-49f6-b908-4b85c5a2bd2e",
   "metadata": {
    "tags": []
   },
   "outputs": [
    {
     "data": {
      "text/html": [
       "<div>\n",
       "<style scoped>\n",
       "    .dataframe tbody tr th:only-of-type {\n",
       "        vertical-align: middle;\n",
       "    }\n",
       "\n",
       "    .dataframe tbody tr th {\n",
       "        vertical-align: top;\n",
       "    }\n",
       "\n",
       "    .dataframe thead th {\n",
       "        text-align: right;\n",
       "    }\n",
       "</style>\n",
       "<table border=\"1\" class=\"dataframe\">\n",
       "  <thead>\n",
       "    <tr style=\"text-align: right;\">\n",
       "      <th></th>\n",
       "      <th>Grades</th>\n",
       "      <th>Marks</th>\n",
       "    </tr>\n",
       "  </thead>\n",
       "  <tbody>\n",
       "    <tr>\n",
       "      <th>A</th>\n",
       "      <td>4.0</td>\n",
       "      <td>90</td>\n",
       "    </tr>\n",
       "    <tr>\n",
       "      <th>A-</th>\n",
       "      <td>3.5</td>\n",
       "      <td>85</td>\n",
       "    </tr>\n",
       "    <tr>\n",
       "      <th>B</th>\n",
       "      <td>3.0</td>\n",
       "      <td>75</td>\n",
       "    </tr>\n",
       "  </tbody>\n",
       "</table>\n",
       "</div>"
      ],
      "text/plain": [
       "    Grades  Marks\n",
       "A      4.0     90\n",
       "A-     3.5     85\n",
       "B      3.0     75"
      ]
     },
     "execution_count": 63,
     "metadata": {},
     "output_type": "execute_result"
    }
   ],
   "source": [
    "G = D[D['Marks']>70]\n",
    "G"
   ]
  },
  {
   "cell_type": "code",
   "execution_count": 65,
   "id": "468f7226-5fa3-4b71-a860-e357daadddf4",
   "metadata": {
    "tags": []
   },
   "outputs": [
    {
     "data": {
      "text/html": [
       "<div>\n",
       "<style scoped>\n",
       "    .dataframe tbody tr th:only-of-type {\n",
       "        vertical-align: middle;\n",
       "    }\n",
       "\n",
       "    .dataframe tbody tr th {\n",
       "        vertical-align: top;\n",
       "    }\n",
       "\n",
       "    .dataframe thead th {\n",
       "        text-align: right;\n",
       "    }\n",
       "</style>\n",
       "<table border=\"1\" class=\"dataframe\">\n",
       "  <thead>\n",
       "    <tr style=\"text-align: right;\">\n",
       "      <th></th>\n",
       "      <th>a</th>\n",
       "      <th>b</th>\n",
       "      <th>c</th>\n",
       "    </tr>\n",
       "  </thead>\n",
       "  <tbody>\n",
       "    <tr>\n",
       "      <th>0</th>\n",
       "      <td>1.0</td>\n",
       "      <td>2</td>\n",
       "      <td>NaN</td>\n",
       "    </tr>\n",
       "    <tr>\n",
       "      <th>1</th>\n",
       "      <td>NaN</td>\n",
       "      <td>3</td>\n",
       "      <td>4.0</td>\n",
       "    </tr>\n",
       "  </tbody>\n",
       "</table>\n",
       "</div>"
      ],
      "text/plain": [
       "     a  b    c\n",
       "0  1.0  2  NaN\n",
       "1  NaN  3  4.0"
      ]
     },
     "execution_count": 65,
     "metadata": {},
     "output_type": "execute_result"
    }
   ],
   "source": [
    "A = pd.DataFrame ([{'a':1,'b':2},{'b':3,'c':4}])\n",
    "A"
   ]
  },
  {
   "cell_type": "code",
   "execution_count": 71,
   "id": "100cced3-9720-48f3-8747-1502043e9ac1",
   "metadata": {
    "tags": []
   },
   "outputs": [
    {
     "data": {
      "text/html": [
       "<div>\n",
       "<style scoped>\n",
       "    .dataframe tbody tr th:only-of-type {\n",
       "        vertical-align: middle;\n",
       "    }\n",
       "\n",
       "    .dataframe tbody tr th {\n",
       "        vertical-align: top;\n",
       "    }\n",
       "\n",
       "    .dataframe thead th {\n",
       "        text-align: right;\n",
       "    }\n",
       "</style>\n",
       "<table border=\"1\" class=\"dataframe\">\n",
       "  <thead>\n",
       "    <tr style=\"text-align: right;\">\n",
       "      <th></th>\n",
       "      <th>a</th>\n",
       "      <th>b</th>\n",
       "      <th>c</th>\n",
       "    </tr>\n",
       "  </thead>\n",
       "  <tbody>\n",
       "    <tr>\n",
       "      <th>0</th>\n",
       "      <td>1.0</td>\n",
       "      <td>2</td>\n",
       "      <td>0.0</td>\n",
       "    </tr>\n",
       "    <tr>\n",
       "      <th>1</th>\n",
       "      <td>0.0</td>\n",
       "      <td>3</td>\n",
       "      <td>4.0</td>\n",
       "    </tr>\n",
       "  </tbody>\n",
       "</table>\n",
       "</div>"
      ],
      "text/plain": [
       "     a  b    c\n",
       "0  1.0  2  0.0\n",
       "1  0.0  3  4.0"
      ]
     },
     "execution_count": 71,
     "metadata": {},
     "output_type": "execute_result"
    }
   ],
   "source": [
    "A.fillna(0)"
   ]
  },
  {
   "cell_type": "code",
   "execution_count": 83,
   "id": "145451e1-e907-4ccf-9439-a7759b3fbba7",
   "metadata": {
    "tags": []
   },
   "outputs": [
    {
     "data": {
      "text/plain": [
       "\u001b[0;31mSignature:\u001b[0m\n",
       "\u001b[0mA\u001b[0m\u001b[0;34m.\u001b[0m\u001b[0mdropna\u001b[0m\u001b[0;34m(\u001b[0m\u001b[0;34m\u001b[0m\n",
       "\u001b[0;34m\u001b[0m    \u001b[0;34m*\u001b[0m\u001b[0;34m,\u001b[0m\u001b[0;34m\u001b[0m\n",
       "\u001b[0;34m\u001b[0m    \u001b[0maxis\u001b[0m\u001b[0;34m:\u001b[0m \u001b[0;34m'Axis'\u001b[0m \u001b[0;34m=\u001b[0m \u001b[0;36m0\u001b[0m\u001b[0;34m,\u001b[0m\u001b[0;34m\u001b[0m\n",
       "\u001b[0;34m\u001b[0m    \u001b[0mhow\u001b[0m\u001b[0;34m:\u001b[0m \u001b[0;34m'AnyAll | lib.NoDefault'\u001b[0m \u001b[0;34m=\u001b[0m \u001b[0;34m<\u001b[0m\u001b[0mno_default\u001b[0m\u001b[0;34m>\u001b[0m\u001b[0;34m,\u001b[0m\u001b[0;34m\u001b[0m\n",
       "\u001b[0;34m\u001b[0m    \u001b[0mthresh\u001b[0m\u001b[0;34m:\u001b[0m \u001b[0;34m'int | lib.NoDefault'\u001b[0m \u001b[0;34m=\u001b[0m \u001b[0;34m<\u001b[0m\u001b[0mno_default\u001b[0m\u001b[0;34m>\u001b[0m\u001b[0;34m,\u001b[0m\u001b[0;34m\u001b[0m\n",
       "\u001b[0;34m\u001b[0m    \u001b[0msubset\u001b[0m\u001b[0;34m:\u001b[0m \u001b[0;34m'IndexLabel | None'\u001b[0m \u001b[0;34m=\u001b[0m \u001b[0;32mNone\u001b[0m\u001b[0;34m,\u001b[0m\u001b[0;34m\u001b[0m\n",
       "\u001b[0;34m\u001b[0m    \u001b[0minplace\u001b[0m\u001b[0;34m:\u001b[0m \u001b[0;34m'bool'\u001b[0m \u001b[0;34m=\u001b[0m \u001b[0;32mFalse\u001b[0m\u001b[0;34m,\u001b[0m\u001b[0;34m\u001b[0m\n",
       "\u001b[0;34m\u001b[0m    \u001b[0mignore_index\u001b[0m\u001b[0;34m:\u001b[0m \u001b[0;34m'bool'\u001b[0m \u001b[0;34m=\u001b[0m \u001b[0;32mFalse\u001b[0m\u001b[0;34m,\u001b[0m\u001b[0;34m\u001b[0m\n",
       "\u001b[0;34m\u001b[0m\u001b[0;34m)\u001b[0m \u001b[0;34m->\u001b[0m \u001b[0;34m'DataFrame | None'\u001b[0m\u001b[0;34m\u001b[0m\u001b[0;34m\u001b[0m\u001b[0m\n",
       "\u001b[0;31mDocstring:\u001b[0m\n",
       "Remove missing values.\n",
       "\n",
       "See the :ref:`User Guide <missing_data>` for more on which values are\n",
       "considered missing, and how to work with missing data.\n",
       "\n",
       "Parameters\n",
       "----------\n",
       "axis : {0 or 'index', 1 or 'columns'}, default 0\n",
       "    Determine if rows or columns which contain missing values are\n",
       "    removed.\n",
       "\n",
       "    * 0, or 'index' : Drop rows which contain missing values.\n",
       "    * 1, or 'columns' : Drop columns which contain missing value.\n",
       "\n",
       "    Only a single axis is allowed.\n",
       "\n",
       "how : {'any', 'all'}, default 'any'\n",
       "    Determine if row or column is removed from DataFrame, when we have\n",
       "    at least one NA or all NA.\n",
       "\n",
       "    * 'any' : If any NA values are present, drop that row or column.\n",
       "    * 'all' : If all values are NA, drop that row or column.\n",
       "\n",
       "thresh : int, optional\n",
       "    Require that many non-NA values. Cannot be combined with how.\n",
       "subset : column label or sequence of labels, optional\n",
       "    Labels along other axis to consider, e.g. if you are dropping rows\n",
       "    these would be a list of columns to include.\n",
       "inplace : bool, default False\n",
       "    Whether to modify the DataFrame rather than creating a new one.\n",
       "ignore_index : bool, default ``False``\n",
       "    If ``True``, the resulting axis will be labeled 0, 1, …, n - 1.\n",
       "\n",
       "    .. versionadded:: 2.0.0\n",
       "\n",
       "Returns\n",
       "-------\n",
       "DataFrame or None\n",
       "    DataFrame with NA entries dropped from it or None if ``inplace=True``.\n",
       "\n",
       "See Also\n",
       "--------\n",
       "DataFrame.isna: Indicate missing values.\n",
       "DataFrame.notna : Indicate existing (non-missing) values.\n",
       "DataFrame.fillna : Replace missing values.\n",
       "Series.dropna : Drop missing values.\n",
       "Index.dropna : Drop missing indices.\n",
       "\n",
       "Examples\n",
       "--------\n",
       ">>> df = pd.DataFrame({\"name\": ['Alfred', 'Batman', 'Catwoman'],\n",
       "...                    \"toy\": [np.nan, 'Batmobile', 'Bullwhip'],\n",
       "...                    \"born\": [pd.NaT, pd.Timestamp(\"1940-04-25\"),\n",
       "...                             pd.NaT]})\n",
       ">>> df\n",
       "       name        toy       born\n",
       "0    Alfred        NaN        NaT\n",
       "1    Batman  Batmobile 1940-04-25\n",
       "2  Catwoman   Bullwhip        NaT\n",
       "\n",
       "Drop the rows where at least one element is missing.\n",
       "\n",
       ">>> df.dropna()\n",
       "     name        toy       born\n",
       "1  Batman  Batmobile 1940-04-25\n",
       "\n",
       "Drop the columns where at least one element is missing.\n",
       "\n",
       ">>> df.dropna(axis='columns')\n",
       "       name\n",
       "0    Alfred\n",
       "1    Batman\n",
       "2  Catwoman\n",
       "\n",
       "Drop the rows where all elements are missing.\n",
       "\n",
       ">>> df.dropna(how='all')\n",
       "       name        toy       born\n",
       "0    Alfred        NaN        NaT\n",
       "1    Batman  Batmobile 1940-04-25\n",
       "2  Catwoman   Bullwhip        NaT\n",
       "\n",
       "Keep only the rows with at least 2 non-NA values.\n",
       "\n",
       ">>> df.dropna(thresh=2)\n",
       "       name        toy       born\n",
       "1    Batman  Batmobile 1940-04-25\n",
       "2  Catwoman   Bullwhip        NaT\n",
       "\n",
       "Define in which columns to look for missing values.\n",
       "\n",
       ">>> df.dropna(subset=['name', 'toy'])\n",
       "       name        toy       born\n",
       "1    Batman  Batmobile 1940-04-25\n",
       "2  Catwoman   Bullwhip        NaT\n",
       "\u001b[0;31mFile:\u001b[0m      /opt/anaconda3/lib/python3.11/site-packages/pandas/core/frame.py\n",
       "\u001b[0;31mType:\u001b[0m      method"
      ]
     },
     "metadata": {},
     "output_type": "display_data"
    }
   ],
   "source": [
    "A.dropna?"
   ]
  },
  {
   "cell_type": "code",
   "execution_count": 85,
   "id": "34b79842-c457-4469-8981-849af31bbd43",
   "metadata": {
    "tags": []
   },
   "outputs": [],
   "source": [
    " A = pd.Series(['a','b','c'], index=['1','3','5'])"
   ]
  },
  {
   "cell_type": "code",
   "execution_count": 87,
   "id": "aa06ee9b-d702-400b-a9d7-4a9304a034ff",
   "metadata": {
    "tags": []
   },
   "outputs": [
    {
     "name": "stderr",
     "output_type": "stream",
     "text": [
      "/var/folders/p1/cnkmf8g11nv6539lxshwphmc0000gn/T/ipykernel_53933/2665442193.py:1: FutureWarning: Series.__getitem__ treating keys as positions is deprecated. In a future version, integer keys will always be treated as labels (consistent with DataFrame behavior). To access a value by position, use `ser.iloc[pos]`\n",
      "  A[1]\n"
     ]
    },
    {
     "data": {
      "text/plain": [
       "'b'"
      ]
     },
     "execution_count": 87,
     "metadata": {},
     "output_type": "execute_result"
    }
   ],
   "source": [
    "A[1]"
   ]
  },
  {
   "cell_type": "code",
   "execution_count": 89,
   "id": "d325446d-9c48-45b4-aa48-4d3d23130a17",
   "metadata": {
    "tags": []
   },
   "outputs": [
    {
     "data": {
      "text/plain": [
       "3    b\n",
       "5    c\n",
       "dtype: object"
      ]
     },
     "execution_count": 89,
     "metadata": {},
     "output_type": "execute_result"
    }
   ],
   "source": [
    "A[1:3]"
   ]
  },
  {
   "cell_type": "code",
   "execution_count": 97,
   "id": "21efcc99-5ec8-4565-8e5e-2dee34f3d065",
   "metadata": {
    "tags": []
   },
   "outputs": [
    {
     "data": {
      "text/html": [
       "<div>\n",
       "<style scoped>\n",
       "    .dataframe tbody tr th:only-of-type {\n",
       "        vertical-align: middle;\n",
       "    }\n",
       "\n",
       "    .dataframe tbody tr th {\n",
       "        vertical-align: top;\n",
       "    }\n",
       "\n",
       "    .dataframe thead th {\n",
       "        text-align: right;\n",
       "    }\n",
       "</style>\n",
       "<table border=\"1\" class=\"dataframe\">\n",
       "  <thead>\n",
       "    <tr style=\"text-align: right;\">\n",
       "      <th></th>\n",
       "      <th>Grades</th>\n",
       "      <th>Marks</th>\n",
       "    </tr>\n",
       "  </thead>\n",
       "  <tbody>\n",
       "    <tr>\n",
       "      <th>A</th>\n",
       "      <td>4.0</td>\n",
       "      <td>90</td>\n",
       "    </tr>\n",
       "    <tr>\n",
       "      <th>A-</th>\n",
       "      <td>3.5</td>\n",
       "      <td>85</td>\n",
       "    </tr>\n",
       "    <tr>\n",
       "      <th>B</th>\n",
       "      <td>3.0</td>\n",
       "      <td>75</td>\n",
       "    </tr>\n",
       "    <tr>\n",
       "      <th>B-</th>\n",
       "      <td>2.5</td>\n",
       "      <td>65</td>\n",
       "    </tr>\n",
       "  </tbody>\n",
       "</table>\n",
       "</div>"
      ],
      "text/plain": [
       "    Grades  Marks\n",
       "A      4.0     90\n",
       "A-     3.5     85\n",
       "B      3.0     75\n",
       "B-     2.5     65"
      ]
     },
     "execution_count": 97,
     "metadata": {},
     "output_type": "execute_result"
    }
   ],
   "source": [
    "D"
   ]
  },
  {
   "cell_type": "code",
   "execution_count": 101,
   "id": "02626123-ba0f-4f65-ac94-2839ef85ac62",
   "metadata": {
    "tags": []
   },
   "outputs": [
    {
     "data": {
      "text/plain": [
       "Grades     3.0\n",
       "Marks     75.0\n",
       "Name: B, dtype: float64"
      ]
     },
     "execution_count": 101,
     "metadata": {},
     "output_type": "execute_result"
    }
   ],
   "source": [
    "D.iloc[2,:]"
   ]
  },
  {
   "cell_type": "code",
   "execution_count": 112,
   "id": "66fd02ec-1f2f-4a21-91d6-96a1f6b912d4",
   "metadata": {
    "tags": []
   },
   "outputs": [],
   "source": [
    "import numpy as np\n",
    "from sklearn.impute import SimpleImputer"
   ]
  },
  {
   "cell_type": "code",
   "execution_count": 122,
   "id": "7a079d6d-7265-4fb6-b5f8-3909e104a01f",
   "metadata": {
    "tags": []
   },
   "outputs": [],
   "source": [
    "df = pd.read_csv(\"/Users/prajjwal/Library/CloudStorage/OneDrive-UniversityofAppliedSciencesEuropeGmbH(ehem.BiTSbtk)-Berlin,Hamburg,Iserlohn/Kaggel/Covid 19 US/archive/counties.csv\")"
   ]
  },
  {
   "cell_type": "code",
   "execution_count": 126,
   "id": "de0d5964-dc3f-481a-bead-b337d2c8d5a5",
   "metadata": {
    "tags": []
   },
   "outputs": [
    {
     "data": {
      "text/html": [
       "<div>\n",
       "<style scoped>\n",
       "    .dataframe tbody tr th:only-of-type {\n",
       "        vertical-align: middle;\n",
       "    }\n",
       "\n",
       "    .dataframe tbody tr th {\n",
       "        vertical-align: top;\n",
       "    }\n",
       "\n",
       "    .dataframe thead th {\n",
       "        text-align: right;\n",
       "    }\n",
       "</style>\n",
       "<table border=\"1\" class=\"dataframe\">\n",
       "  <thead>\n",
       "    <tr style=\"text-align: right;\">\n",
       "      <th></th>\n",
       "      <th>FIPS</th>\n",
       "      <th>State</th>\n",
       "      <th>Area_Name</th>\n",
       "      <th>Rural-urban_Continuum Code_2013</th>\n",
       "      <th>Urban_Influence_Code_2013</th>\n",
       "      <th>Economic_typology_2015</th>\n",
       "      <th>POP_ESTIMATE_2018</th>\n",
       "      <th>N_POP_CHG_2018</th>\n",
       "      <th>Births_2018</th>\n",
       "      <th>Deaths_2018</th>\n",
       "      <th>...</th>\n",
       "      <th>Total number of UCR (Uniform Crime Report) Index crimes excluding arson.</th>\n",
       "      <th>Total number of UCR (Uniform Crime Report) index crimes reported including arson</th>\n",
       "      <th>MURDER</th>\n",
       "      <th>RAPE</th>\n",
       "      <th>ROBBERY</th>\n",
       "      <th>Number of AGGRAVATED ASSAULTS</th>\n",
       "      <th>BURGLRY</th>\n",
       "      <th>LARCENY</th>\n",
       "      <th>MOTOR VEHICLE THEFTS</th>\n",
       "      <th>ARSON</th>\n",
       "    </tr>\n",
       "  </thead>\n",
       "  <tbody>\n",
       "    <tr>\n",
       "      <th>0</th>\n",
       "      <td>0</td>\n",
       "      <td>US</td>\n",
       "      <td>United States</td>\n",
       "      <td>NaN</td>\n",
       "      <td>NaN</td>\n",
       "      <td>NaN</td>\n",
       "      <td>327167434</td>\n",
       "      <td>2020313.0</td>\n",
       "      <td>3855500.0</td>\n",
       "      <td>2814013.0</td>\n",
       "      <td>...</td>\n",
       "      <td>NaN</td>\n",
       "      <td>NaN</td>\n",
       "      <td>NaN</td>\n",
       "      <td>NaN</td>\n",
       "      <td>NaN</td>\n",
       "      <td>NaN</td>\n",
       "      <td>NaN</td>\n",
       "      <td>NaN</td>\n",
       "      <td>NaN</td>\n",
       "      <td>NaN</td>\n",
       "    </tr>\n",
       "    <tr>\n",
       "      <th>1</th>\n",
       "      <td>1000</td>\n",
       "      <td>AL</td>\n",
       "      <td>Alabama</td>\n",
       "      <td>NaN</td>\n",
       "      <td>NaN</td>\n",
       "      <td>NaN</td>\n",
       "      <td>4887871</td>\n",
       "      <td>12751.0</td>\n",
       "      <td>57216.0</td>\n",
       "      <td>53425.0</td>\n",
       "      <td>...</td>\n",
       "      <td>NaN</td>\n",
       "      <td>NaN</td>\n",
       "      <td>NaN</td>\n",
       "      <td>NaN</td>\n",
       "      <td>NaN</td>\n",
       "      <td>NaN</td>\n",
       "      <td>NaN</td>\n",
       "      <td>NaN</td>\n",
       "      <td>NaN</td>\n",
       "      <td>NaN</td>\n",
       "    </tr>\n",
       "    <tr>\n",
       "      <th>2</th>\n",
       "      <td>1001</td>\n",
       "      <td>AL</td>\n",
       "      <td>Autauga County</td>\n",
       "      <td>2.0</td>\n",
       "      <td>2.0</td>\n",
       "      <td>0.0</td>\n",
       "      <td>55601</td>\n",
       "      <td>158.0</td>\n",
       "      <td>655.0</td>\n",
       "      <td>532.0</td>\n",
       "      <td>...</td>\n",
       "      <td>139.0</td>\n",
       "      <td>1765.0</td>\n",
       "      <td>3.0</td>\n",
       "      <td>15.0</td>\n",
       "      <td>34.0</td>\n",
       "      <td>87.0</td>\n",
       "      <td>447.0</td>\n",
       "      <td>1233.0</td>\n",
       "      <td>85.0</td>\n",
       "      <td>108.0</td>\n",
       "    </tr>\n",
       "    <tr>\n",
       "      <th>3</th>\n",
       "      <td>1003</td>\n",
       "      <td>AL</td>\n",
       "      <td>Baldwin County</td>\n",
       "      <td>3.0</td>\n",
       "      <td>2.0</td>\n",
       "      <td>5.0</td>\n",
       "      <td>218022</td>\n",
       "      <td>5403.0</td>\n",
       "      <td>2254.0</td>\n",
       "      <td>2228.0</td>\n",
       "      <td>...</td>\n",
       "      <td>446.0</td>\n",
       "      <td>4988.0</td>\n",
       "      <td>8.0</td>\n",
       "      <td>30.0</td>\n",
       "      <td>76.0</td>\n",
       "      <td>332.0</td>\n",
       "      <td>967.0</td>\n",
       "      <td>3829.0</td>\n",
       "      <td>192.0</td>\n",
       "      <td>31.0</td>\n",
       "    </tr>\n",
       "    <tr>\n",
       "      <th>4</th>\n",
       "      <td>1005</td>\n",
       "      <td>AL</td>\n",
       "      <td>Barbour County</td>\n",
       "      <td>6.0</td>\n",
       "      <td>6.0</td>\n",
       "      <td>3.0</td>\n",
       "      <td>24881</td>\n",
       "      <td>-277.0</td>\n",
       "      <td>261.0</td>\n",
       "      <td>324.0</td>\n",
       "      <td>...</td>\n",
       "      <td>48.0</td>\n",
       "      <td>474.0</td>\n",
       "      <td>0.0</td>\n",
       "      <td>4.0</td>\n",
       "      <td>8.0</td>\n",
       "      <td>36.0</td>\n",
       "      <td>90.0</td>\n",
       "      <td>362.0</td>\n",
       "      <td>21.0</td>\n",
       "      <td>0.0</td>\n",
       "    </tr>\n",
       "  </tbody>\n",
       "</table>\n",
       "<p>5 rows × 347 columns</p>\n",
       "</div>"
      ],
      "text/plain": [
       "   FIPS State       Area_Name  Rural-urban_Continuum Code_2013  \\\n",
       "0     0    US   United States                              NaN   \n",
       "1  1000    AL         Alabama                              NaN   \n",
       "2  1001    AL  Autauga County                              2.0   \n",
       "3  1003    AL  Baldwin County                              3.0   \n",
       "4  1005    AL  Barbour County                              6.0   \n",
       "\n",
       "   Urban_Influence_Code_2013  Economic_typology_2015  POP_ESTIMATE_2018  \\\n",
       "0                        NaN                     NaN          327167434   \n",
       "1                        NaN                     NaN            4887871   \n",
       "2                        2.0                     0.0              55601   \n",
       "3                        2.0                     5.0             218022   \n",
       "4                        6.0                     3.0              24881   \n",
       "\n",
       "   N_POP_CHG_2018  Births_2018  Deaths_2018  ...  \\\n",
       "0       2020313.0    3855500.0    2814013.0  ...   \n",
       "1         12751.0      57216.0      53425.0  ...   \n",
       "2           158.0        655.0        532.0  ...   \n",
       "3          5403.0       2254.0       2228.0  ...   \n",
       "4          -277.0        261.0        324.0  ...   \n",
       "\n",
       "   Total number of UCR (Uniform Crime Report) Index crimes excluding arson.  \\\n",
       "0                                                NaN                          \n",
       "1                                                NaN                          \n",
       "2                                              139.0                          \n",
       "3                                              446.0                          \n",
       "4                                               48.0                          \n",
       "\n",
       "   Total number of UCR (Uniform Crime Report) index crimes reported including arson  \\\n",
       "0                                                NaN                                  \n",
       "1                                                NaN                                  \n",
       "2                                             1765.0                                  \n",
       "3                                             4988.0                                  \n",
       "4                                              474.0                                  \n",
       "\n",
       "   MURDER  RAPE  ROBBERY  Number of AGGRAVATED ASSAULTS  BURGLRY  LARCENY  \\\n",
       "0     NaN   NaN      NaN                            NaN      NaN      NaN   \n",
       "1     NaN   NaN      NaN                            NaN      NaN      NaN   \n",
       "2     3.0  15.0     34.0                           87.0    447.0   1233.0   \n",
       "3     8.0  30.0     76.0                          332.0    967.0   3829.0   \n",
       "4     0.0   4.0      8.0                           36.0     90.0    362.0   \n",
       "\n",
       "   MOTOR VEHICLE THEFTS  ARSON  \n",
       "0                   NaN    NaN  \n",
       "1                   NaN    NaN  \n",
       "2                  85.0  108.0  \n",
       "3                 192.0   31.0  \n",
       "4                  21.0    0.0  \n",
       "\n",
       "[5 rows x 347 columns]"
      ]
     },
     "execution_count": 126,
     "metadata": {},
     "output_type": "execute_result"
    }
   ],
   "source": [
    "df.head()"
   ]
  },
  {
   "cell_type": "code",
   "execution_count": 128,
   "id": "8e4ef728-d236-45ec-84f2-e50a26744e96",
   "metadata": {
    "tags": []
   },
   "outputs": [],
   "source": [
    "df.drop(['FIPS'],axis = 1, inplace = True) "
   ]
  },
  {
   "cell_type": "code",
   "execution_count": 132,
   "id": "78c827dc-f0a9-4a67-8e09-b14d624d5a6e",
   "metadata": {
    "tags": []
   },
   "outputs": [
    {
     "data": {
      "text/html": [
       "<div>\n",
       "<style scoped>\n",
       "    .dataframe tbody tr th:only-of-type {\n",
       "        vertical-align: middle;\n",
       "    }\n",
       "\n",
       "    .dataframe tbody tr th {\n",
       "        vertical-align: top;\n",
       "    }\n",
       "\n",
       "    .dataframe thead th {\n",
       "        text-align: right;\n",
       "    }\n",
       "</style>\n",
       "<table border=\"1\" class=\"dataframe\">\n",
       "  <thead>\n",
       "    <tr style=\"text-align: right;\">\n",
       "      <th></th>\n",
       "      <th>State</th>\n",
       "      <th>Area_Name</th>\n",
       "      <th>Rural-urban_Continuum Code_2013</th>\n",
       "      <th>Urban_Influence_Code_2013</th>\n",
       "      <th>Economic_typology_2015</th>\n",
       "      <th>POP_ESTIMATE_2018</th>\n",
       "      <th>N_POP_CHG_2018</th>\n",
       "      <th>Births_2018</th>\n",
       "      <th>Deaths_2018</th>\n",
       "      <th>NATURAL_INC_2018</th>\n",
       "      <th>...</th>\n",
       "      <th>Total number of UCR (Uniform Crime Report) Index crimes excluding arson.</th>\n",
       "      <th>Total number of UCR (Uniform Crime Report) index crimes reported including arson</th>\n",
       "      <th>MURDER</th>\n",
       "      <th>RAPE</th>\n",
       "      <th>ROBBERY</th>\n",
       "      <th>Number of AGGRAVATED ASSAULTS</th>\n",
       "      <th>BURGLRY</th>\n",
       "      <th>LARCENY</th>\n",
       "      <th>MOTOR VEHICLE THEFTS</th>\n",
       "      <th>ARSON</th>\n",
       "    </tr>\n",
       "  </thead>\n",
       "  <tbody>\n",
       "    <tr>\n",
       "      <th>0</th>\n",
       "      <td>US</td>\n",
       "      <td>United States</td>\n",
       "      <td>NaN</td>\n",
       "      <td>NaN</td>\n",
       "      <td>NaN</td>\n",
       "      <td>327167434</td>\n",
       "      <td>2020313.0</td>\n",
       "      <td>3855500.0</td>\n",
       "      <td>2814013.0</td>\n",
       "      <td>1041487.0</td>\n",
       "      <td>...</td>\n",
       "      <td>NaN</td>\n",
       "      <td>NaN</td>\n",
       "      <td>NaN</td>\n",
       "      <td>NaN</td>\n",
       "      <td>NaN</td>\n",
       "      <td>NaN</td>\n",
       "      <td>NaN</td>\n",
       "      <td>NaN</td>\n",
       "      <td>NaN</td>\n",
       "      <td>NaN</td>\n",
       "    </tr>\n",
       "    <tr>\n",
       "      <th>1</th>\n",
       "      <td>AL</td>\n",
       "      <td>Alabama</td>\n",
       "      <td>NaN</td>\n",
       "      <td>NaN</td>\n",
       "      <td>NaN</td>\n",
       "      <td>4887871</td>\n",
       "      <td>12751.0</td>\n",
       "      <td>57216.0</td>\n",
       "      <td>53425.0</td>\n",
       "      <td>3791.0</td>\n",
       "      <td>...</td>\n",
       "      <td>NaN</td>\n",
       "      <td>NaN</td>\n",
       "      <td>NaN</td>\n",
       "      <td>NaN</td>\n",
       "      <td>NaN</td>\n",
       "      <td>NaN</td>\n",
       "      <td>NaN</td>\n",
       "      <td>NaN</td>\n",
       "      <td>NaN</td>\n",
       "      <td>NaN</td>\n",
       "    </tr>\n",
       "  </tbody>\n",
       "</table>\n",
       "<p>2 rows × 346 columns</p>\n",
       "</div>"
      ],
      "text/plain": [
       "  State      Area_Name  Rural-urban_Continuum Code_2013  \\\n",
       "0    US  United States                              NaN   \n",
       "1    AL        Alabama                              NaN   \n",
       "\n",
       "   Urban_Influence_Code_2013  Economic_typology_2015  POP_ESTIMATE_2018  \\\n",
       "0                        NaN                     NaN          327167434   \n",
       "1                        NaN                     NaN            4887871   \n",
       "\n",
       "   N_POP_CHG_2018  Births_2018  Deaths_2018  NATURAL_INC_2018  ...  \\\n",
       "0       2020313.0    3855500.0    2814013.0         1041487.0  ...   \n",
       "1         12751.0      57216.0      53425.0            3791.0  ...   \n",
       "\n",
       "   Total number of UCR (Uniform Crime Report) Index crimes excluding arson.  \\\n",
       "0                                                NaN                          \n",
       "1                                                NaN                          \n",
       "\n",
       "   Total number of UCR (Uniform Crime Report) index crimes reported including arson  \\\n",
       "0                                                NaN                                  \n",
       "1                                                NaN                                  \n",
       "\n",
       "   MURDER  RAPE  ROBBERY  Number of AGGRAVATED ASSAULTS  BURGLRY  LARCENY  \\\n",
       "0     NaN   NaN      NaN                            NaN      NaN      NaN   \n",
       "1     NaN   NaN      NaN                            NaN      NaN      NaN   \n",
       "\n",
       "   MOTOR VEHICLE THEFTS  ARSON  \n",
       "0                   NaN    NaN  \n",
       "1                   NaN    NaN  \n",
       "\n",
       "[2 rows x 346 columns]"
      ]
     },
     "execution_count": 132,
     "metadata": {},
     "output_type": "execute_result"
    }
   ],
   "source": [
    "df.head(2)"
   ]
  },
  {
   "cell_type": "code",
   "execution_count": 136,
   "id": "8f998a91-3c63-4afc-b501-2c9a9fec20de",
   "metadata": {
    "tags": []
   },
   "outputs": [],
   "source": [
    "df.rename(columns = {'Area_Name':'Area'},inplace=True)"
   ]
  },
  {
   "cell_type": "code",
   "execution_count": 138,
   "id": "1a96beef-a3af-45c4-9d26-530fd8b460ef",
   "metadata": {
    "tags": []
   },
   "outputs": [
    {
     "data": {
      "text/html": [
       "<div>\n",
       "<style scoped>\n",
       "    .dataframe tbody tr th:only-of-type {\n",
       "        vertical-align: middle;\n",
       "    }\n",
       "\n",
       "    .dataframe tbody tr th {\n",
       "        vertical-align: top;\n",
       "    }\n",
       "\n",
       "    .dataframe thead th {\n",
       "        text-align: right;\n",
       "    }\n",
       "</style>\n",
       "<table border=\"1\" class=\"dataframe\">\n",
       "  <thead>\n",
       "    <tr style=\"text-align: right;\">\n",
       "      <th></th>\n",
       "      <th>State</th>\n",
       "      <th>Area</th>\n",
       "      <th>Rural-urban_Continuum Code_2013</th>\n",
       "      <th>Urban_Influence_Code_2013</th>\n",
       "      <th>Economic_typology_2015</th>\n",
       "      <th>POP_ESTIMATE_2018</th>\n",
       "      <th>N_POP_CHG_2018</th>\n",
       "      <th>Births_2018</th>\n",
       "      <th>Deaths_2018</th>\n",
       "      <th>NATURAL_INC_2018</th>\n",
       "      <th>...</th>\n",
       "      <th>Total number of UCR (Uniform Crime Report) Index crimes excluding arson.</th>\n",
       "      <th>Total number of UCR (Uniform Crime Report) index crimes reported including arson</th>\n",
       "      <th>MURDER</th>\n",
       "      <th>RAPE</th>\n",
       "      <th>ROBBERY</th>\n",
       "      <th>Number of AGGRAVATED ASSAULTS</th>\n",
       "      <th>BURGLRY</th>\n",
       "      <th>LARCENY</th>\n",
       "      <th>MOTOR VEHICLE THEFTS</th>\n",
       "      <th>ARSON</th>\n",
       "    </tr>\n",
       "  </thead>\n",
       "  <tbody>\n",
       "    <tr>\n",
       "      <th>0</th>\n",
       "      <td>US</td>\n",
       "      <td>United States</td>\n",
       "      <td>NaN</td>\n",
       "      <td>NaN</td>\n",
       "      <td>NaN</td>\n",
       "      <td>327167434</td>\n",
       "      <td>2020313.0</td>\n",
       "      <td>3855500.0</td>\n",
       "      <td>2814013.0</td>\n",
       "      <td>1041487.0</td>\n",
       "      <td>...</td>\n",
       "      <td>NaN</td>\n",
       "      <td>NaN</td>\n",
       "      <td>NaN</td>\n",
       "      <td>NaN</td>\n",
       "      <td>NaN</td>\n",
       "      <td>NaN</td>\n",
       "      <td>NaN</td>\n",
       "      <td>NaN</td>\n",
       "      <td>NaN</td>\n",
       "      <td>NaN</td>\n",
       "    </tr>\n",
       "    <tr>\n",
       "      <th>1</th>\n",
       "      <td>AL</td>\n",
       "      <td>Alabama</td>\n",
       "      <td>NaN</td>\n",
       "      <td>NaN</td>\n",
       "      <td>NaN</td>\n",
       "      <td>4887871</td>\n",
       "      <td>12751.0</td>\n",
       "      <td>57216.0</td>\n",
       "      <td>53425.0</td>\n",
       "      <td>3791.0</td>\n",
       "      <td>...</td>\n",
       "      <td>NaN</td>\n",
       "      <td>NaN</td>\n",
       "      <td>NaN</td>\n",
       "      <td>NaN</td>\n",
       "      <td>NaN</td>\n",
       "      <td>NaN</td>\n",
       "      <td>NaN</td>\n",
       "      <td>NaN</td>\n",
       "      <td>NaN</td>\n",
       "      <td>NaN</td>\n",
       "    </tr>\n",
       "  </tbody>\n",
       "</table>\n",
       "<p>2 rows × 346 columns</p>\n",
       "</div>"
      ],
      "text/plain": [
       "  State           Area  Rural-urban_Continuum Code_2013  \\\n",
       "0    US  United States                              NaN   \n",
       "1    AL        Alabama                              NaN   \n",
       "\n",
       "   Urban_Influence_Code_2013  Economic_typology_2015  POP_ESTIMATE_2018  \\\n",
       "0                        NaN                     NaN          327167434   \n",
       "1                        NaN                     NaN            4887871   \n",
       "\n",
       "   N_POP_CHG_2018  Births_2018  Deaths_2018  NATURAL_INC_2018  ...  \\\n",
       "0       2020313.0    3855500.0    2814013.0         1041487.0  ...   \n",
       "1         12751.0      57216.0      53425.0            3791.0  ...   \n",
       "\n",
       "   Total number of UCR (Uniform Crime Report) Index crimes excluding arson.  \\\n",
       "0                                                NaN                          \n",
       "1                                                NaN                          \n",
       "\n",
       "   Total number of UCR (Uniform Crime Report) index crimes reported including arson  \\\n",
       "0                                                NaN                                  \n",
       "1                                                NaN                                  \n",
       "\n",
       "   MURDER  RAPE  ROBBERY  Number of AGGRAVATED ASSAULTS  BURGLRY  LARCENY  \\\n",
       "0     NaN   NaN      NaN                            NaN      NaN      NaN   \n",
       "1     NaN   NaN      NaN                            NaN      NaN      NaN   \n",
       "\n",
       "   MOTOR VEHICLE THEFTS  ARSON  \n",
       "0                   NaN    NaN  \n",
       "1                   NaN    NaN  \n",
       "\n",
       "[2 rows x 346 columns]"
      ]
     },
     "execution_count": 138,
     "metadata": {},
     "output_type": "execute_result"
    }
   ],
   "source": [
    "df.head(2)"
   ]
  },
  {
   "cell_type": "code",
   "execution_count": 140,
   "id": "86bf9b13-0a35-436e-911a-97596ac1860e",
   "metadata": {
    "tags": []
   },
   "outputs": [],
   "source": [
    "# df['Date'] = pd.to_datetime(df['Date'])"
   ]
  },
  {
   "cell_type": "code",
   "execution_count": 148,
   "id": "c4218888-ed6f-4f9b-a8eb-5e5926be4939",
   "metadata": {
    "tags": []
   },
   "outputs": [
    {
     "data": {
      "text/html": [
       "<div>\n",
       "<style scoped>\n",
       "    .dataframe tbody tr th:only-of-type {\n",
       "        vertical-align: middle;\n",
       "    }\n",
       "\n",
       "    .dataframe tbody tr th {\n",
       "        vertical-align: top;\n",
       "    }\n",
       "\n",
       "    .dataframe thead th {\n",
       "        text-align: right;\n",
       "    }\n",
       "</style>\n",
       "<table border=\"1\" class=\"dataframe\">\n",
       "  <thead>\n",
       "    <tr style=\"text-align: right;\">\n",
       "      <th></th>\n",
       "      <th>Rural-urban_Continuum Code_2013</th>\n",
       "      <th>Urban_Influence_Code_2013</th>\n",
       "      <th>Economic_typology_2015</th>\n",
       "      <th>POP_ESTIMATE_2018</th>\n",
       "      <th>N_POP_CHG_2018</th>\n",
       "      <th>Births_2018</th>\n",
       "      <th>Deaths_2018</th>\n",
       "      <th>NATURAL_INC_2018</th>\n",
       "      <th>INTERNATIONAL_MIG_2018</th>\n",
       "      <th>DOMESTIC_MIG_2018</th>\n",
       "      <th>...</th>\n",
       "      <th>Total number of UCR (Uniform Crime Report) Index crimes excluding arson.</th>\n",
       "      <th>Total number of UCR (Uniform Crime Report) index crimes reported including arson</th>\n",
       "      <th>MURDER</th>\n",
       "      <th>RAPE</th>\n",
       "      <th>ROBBERY</th>\n",
       "      <th>Number of AGGRAVATED ASSAULTS</th>\n",
       "      <th>BURGLRY</th>\n",
       "      <th>LARCENY</th>\n",
       "      <th>MOTOR VEHICLE THEFTS</th>\n",
       "      <th>ARSON</th>\n",
       "    </tr>\n",
       "  </thead>\n",
       "  <tbody>\n",
       "    <tr>\n",
       "      <th>count</th>\n",
       "      <td>3220.000000</td>\n",
       "      <td>3220.000000</td>\n",
       "      <td>3142.000000</td>\n",
       "      <td>3.273000e+03</td>\n",
       "      <td>3.194000e+03</td>\n",
       "      <td>3.194000e+03</td>\n",
       "      <td>3.194000e+03</td>\n",
       "      <td>3.194000e+03</td>\n",
       "      <td>3194.000000</td>\n",
       "      <td>3194.000000</td>\n",
       "      <td>...</td>\n",
       "      <td>3135.000000</td>\n",
       "      <td>3135.000000</td>\n",
       "      <td>3135.000000</td>\n",
       "      <td>3135.000000</td>\n",
       "      <td>3135.000000</td>\n",
       "      <td>3135.000000</td>\n",
       "      <td>3135.000000</td>\n",
       "      <td>3135.000000</td>\n",
       "      <td>3135.000000</td>\n",
       "      <td>3135.000000</td>\n",
       "    </tr>\n",
       "    <tr>\n",
       "      <th>mean</th>\n",
       "      <td>4.937888</td>\n",
       "      <td>5.188820</td>\n",
       "      <td>1.808402</td>\n",
       "      <td>3.018309e+05</td>\n",
       "      <td>1.897601e+03</td>\n",
       "      <td>3.621321e+03</td>\n",
       "      <td>2.643093e+03</td>\n",
       "      <td>9.782282e+02</td>\n",
       "      <td>919.373200</td>\n",
       "      <td>0.000000</td>\n",
       "      <td>...</td>\n",
       "      <td>382.240191</td>\n",
       "      <td>2812.443062</td>\n",
       "      <td>4.686124</td>\n",
       "      <td>26.332376</td>\n",
       "      <td>112.482616</td>\n",
       "      <td>238.718341</td>\n",
       "      <td>660.858373</td>\n",
       "      <td>1923.953110</td>\n",
       "      <td>227.606380</td>\n",
       "      <td>16.770973</td>\n",
       "    </tr>\n",
       "    <tr>\n",
       "      <th>std</th>\n",
       "      <td>2.724344</td>\n",
       "      <td>3.506848</td>\n",
       "      <td>1.819511</td>\n",
       "      <td>5.848778e+06</td>\n",
       "      <td>3.740118e+04</td>\n",
       "      <td>6.983611e+04</td>\n",
       "      <td>5.079328e+04</td>\n",
       "      <td>1.926177e+04</td>\n",
       "      <td>18052.772157</td>\n",
       "      <td>7179.180873</td>\n",
       "      <td>...</td>\n",
       "      <td>1666.152145</td>\n",
       "      <td>9771.760170</td>\n",
       "      <td>23.339679</td>\n",
       "      <td>79.320655</td>\n",
       "      <td>666.414851</td>\n",
       "      <td>931.231123</td>\n",
       "      <td>2242.688348</td>\n",
       "      <td>6436.945353</td>\n",
       "      <td>1253.430505</td>\n",
       "      <td>67.981006</td>\n",
       "    </tr>\n",
       "    <tr>\n",
       "      <th>min</th>\n",
       "      <td>1.000000</td>\n",
       "      <td>1.000000</td>\n",
       "      <td>0.000000</td>\n",
       "      <td>8.800000e+01</td>\n",
       "      <td>-4.851000e+04</td>\n",
       "      <td>0.000000e+00</td>\n",
       "      <td>0.000000e+00</td>\n",
       "      <td>-4.541000e+03</td>\n",
       "      <td>-540.000000</td>\n",
       "      <td>-180306.000000</td>\n",
       "      <td>...</td>\n",
       "      <td>0.000000</td>\n",
       "      <td>0.000000</td>\n",
       "      <td>0.000000</td>\n",
       "      <td>0.000000</td>\n",
       "      <td>0.000000</td>\n",
       "      <td>0.000000</td>\n",
       "      <td>0.000000</td>\n",
       "      <td>0.000000</td>\n",
       "      <td>0.000000</td>\n",
       "      <td>0.000000</td>\n",
       "    </tr>\n",
       "    <tr>\n",
       "      <th>25%</th>\n",
       "      <td>2.000000</td>\n",
       "      <td>2.000000</td>\n",
       "      <td>0.000000</td>\n",
       "      <td>1.132300e+04</td>\n",
       "      <td>-7.700000e+01</td>\n",
       "      <td>1.190000e+02</td>\n",
       "      <td>1.212500e+02</td>\n",
       "      <td>-2.900000e+01</td>\n",
       "      <td>1.000000</td>\n",
       "      <td>-127.000000</td>\n",
       "      <td>...</td>\n",
       "      <td>13.000000</td>\n",
       "      <td>130.000000</td>\n",
       "      <td>0.000000</td>\n",
       "      <td>1.000000</td>\n",
       "      <td>0.000000</td>\n",
       "      <td>10.000000</td>\n",
       "      <td>37.000000</td>\n",
       "      <td>81.000000</td>\n",
       "      <td>6.000000</td>\n",
       "      <td>0.000000</td>\n",
       "    </tr>\n",
       "    <tr>\n",
       "      <th>50%</th>\n",
       "      <td>6.000000</td>\n",
       "      <td>5.000000</td>\n",
       "      <td>1.000000</td>\n",
       "      <td>2.674200e+04</td>\n",
       "      <td>2.200000e+01</td>\n",
       "      <td>2.940000e+02</td>\n",
       "      <td>2.865000e+02</td>\n",
       "      <td>8.000000e+00</td>\n",
       "      <td>10.000000</td>\n",
       "      <td>-9.000000</td>\n",
       "      <td>...</td>\n",
       "      <td>49.000000</td>\n",
       "      <td>506.000000</td>\n",
       "      <td>0.000000</td>\n",
       "      <td>5.000000</td>\n",
       "      <td>4.000000</td>\n",
       "      <td>36.000000</td>\n",
       "      <td>131.000000</td>\n",
       "      <td>349.000000</td>\n",
       "      <td>22.000000</td>\n",
       "      <td>3.000000</td>\n",
       "    </tr>\n",
       "    <tr>\n",
       "      <th>75%</th>\n",
       "      <td>7.000000</td>\n",
       "      <td>8.000000</td>\n",
       "      <td>3.000000</td>\n",
       "      <td>7.138500e+04</td>\n",
       "      <td>3.200000e+02</td>\n",
       "      <td>8.197500e+02</td>\n",
       "      <td>7.345000e+02</td>\n",
       "      <td>1.190000e+02</td>\n",
       "      <td>60.000000</td>\n",
       "      <td>160.000000</td>\n",
       "      <td>...</td>\n",
       "      <td>171.000000</td>\n",
       "      <td>1703.500000</td>\n",
       "      <td>2.000000</td>\n",
       "      <td>19.000000</td>\n",
       "      <td>22.000000</td>\n",
       "      <td>124.000000</td>\n",
       "      <td>417.000000</td>\n",
       "      <td>1205.500000</td>\n",
       "      <td>74.000000</td>\n",
       "      <td>9.000000</td>\n",
       "    </tr>\n",
       "    <tr>\n",
       "      <th>max</th>\n",
       "      <td>9.000000</td>\n",
       "      <td>12.000000</td>\n",
       "      <td>5.000000</td>\n",
       "      <td>3.271674e+08</td>\n",
       "      <td>2.020313e+06</td>\n",
       "      <td>3.855500e+06</td>\n",
       "      <td>2.814013e+06</td>\n",
       "      <td>1.041487e+06</td>\n",
       "      <td>978826.000000</td>\n",
       "      <td>132602.000000</td>\n",
       "      <td>...</td>\n",
       "      <td>44556.000000</td>\n",
       "      <td>232266.000000</td>\n",
       "      <td>600.000000</td>\n",
       "      <td>1976.000000</td>\n",
       "      <td>18923.000000</td>\n",
       "      <td>23057.000000</td>\n",
       "      <td>49107.000000</td>\n",
       "      <td>142604.000000</td>\n",
       "      <td>40555.000000</td>\n",
       "      <td>2210.000000</td>\n",
       "    </tr>\n",
       "  </tbody>\n",
       "</table>\n",
       "<p>8 rows × 344 columns</p>\n",
       "</div>"
      ],
      "text/plain": [
       "       Rural-urban_Continuum Code_2013  Urban_Influence_Code_2013  \\\n",
       "count                      3220.000000                3220.000000   \n",
       "mean                          4.937888                   5.188820   \n",
       "std                           2.724344                   3.506848   \n",
       "min                           1.000000                   1.000000   \n",
       "25%                           2.000000                   2.000000   \n",
       "50%                           6.000000                   5.000000   \n",
       "75%                           7.000000                   8.000000   \n",
       "max                           9.000000                  12.000000   \n",
       "\n",
       "       Economic_typology_2015  POP_ESTIMATE_2018  N_POP_CHG_2018  \\\n",
       "count             3142.000000       3.273000e+03    3.194000e+03   \n",
       "mean                 1.808402       3.018309e+05    1.897601e+03   \n",
       "std                  1.819511       5.848778e+06    3.740118e+04   \n",
       "min                  0.000000       8.800000e+01   -4.851000e+04   \n",
       "25%                  0.000000       1.132300e+04   -7.700000e+01   \n",
       "50%                  1.000000       2.674200e+04    2.200000e+01   \n",
       "75%                  3.000000       7.138500e+04    3.200000e+02   \n",
       "max                  5.000000       3.271674e+08    2.020313e+06   \n",
       "\n",
       "        Births_2018   Deaths_2018  NATURAL_INC_2018  INTERNATIONAL_MIG_2018  \\\n",
       "count  3.194000e+03  3.194000e+03      3.194000e+03             3194.000000   \n",
       "mean   3.621321e+03  2.643093e+03      9.782282e+02              919.373200   \n",
       "std    6.983611e+04  5.079328e+04      1.926177e+04            18052.772157   \n",
       "min    0.000000e+00  0.000000e+00     -4.541000e+03             -540.000000   \n",
       "25%    1.190000e+02  1.212500e+02     -2.900000e+01                1.000000   \n",
       "50%    2.940000e+02  2.865000e+02      8.000000e+00               10.000000   \n",
       "75%    8.197500e+02  7.345000e+02      1.190000e+02               60.000000   \n",
       "max    3.855500e+06  2.814013e+06      1.041487e+06           978826.000000   \n",
       "\n",
       "       DOMESTIC_MIG_2018  ...  \\\n",
       "count        3194.000000  ...   \n",
       "mean            0.000000  ...   \n",
       "std          7179.180873  ...   \n",
       "min       -180306.000000  ...   \n",
       "25%          -127.000000  ...   \n",
       "50%            -9.000000  ...   \n",
       "75%           160.000000  ...   \n",
       "max        132602.000000  ...   \n",
       "\n",
       "       Total number of UCR (Uniform Crime Report) Index crimes excluding arson.  \\\n",
       "count                                        3135.000000                          \n",
       "mean                                          382.240191                          \n",
       "std                                          1666.152145                          \n",
       "min                                             0.000000                          \n",
       "25%                                            13.000000                          \n",
       "50%                                            49.000000                          \n",
       "75%                                           171.000000                          \n",
       "max                                         44556.000000                          \n",
       "\n",
       "       Total number of UCR (Uniform Crime Report) index crimes reported including arson  \\\n",
       "count                                        3135.000000                                  \n",
       "mean                                         2812.443062                                  \n",
       "std                                          9771.760170                                  \n",
       "min                                             0.000000                                  \n",
       "25%                                           130.000000                                  \n",
       "50%                                           506.000000                                  \n",
       "75%                                          1703.500000                                  \n",
       "max                                        232266.000000                                  \n",
       "\n",
       "            MURDER         RAPE       ROBBERY  Number of AGGRAVATED ASSAULTS  \\\n",
       "count  3135.000000  3135.000000   3135.000000                    3135.000000   \n",
       "mean      4.686124    26.332376    112.482616                     238.718341   \n",
       "std      23.339679    79.320655    666.414851                     931.231123   \n",
       "min       0.000000     0.000000      0.000000                       0.000000   \n",
       "25%       0.000000     1.000000      0.000000                      10.000000   \n",
       "50%       0.000000     5.000000      4.000000                      36.000000   \n",
       "75%       2.000000    19.000000     22.000000                     124.000000   \n",
       "max     600.000000  1976.000000  18923.000000                   23057.000000   \n",
       "\n",
       "            BURGLRY        LARCENY  MOTOR VEHICLE THEFTS        ARSON  \n",
       "count   3135.000000    3135.000000           3135.000000  3135.000000  \n",
       "mean     660.858373    1923.953110            227.606380    16.770973  \n",
       "std     2242.688348    6436.945353           1253.430505    67.981006  \n",
       "min        0.000000       0.000000              0.000000     0.000000  \n",
       "25%       37.000000      81.000000              6.000000     0.000000  \n",
       "50%      131.000000     349.000000             22.000000     3.000000  \n",
       "75%      417.000000    1205.500000             74.000000     9.000000  \n",
       "max    49107.000000  142604.000000          40555.000000  2210.000000  \n",
       "\n",
       "[8 rows x 344 columns]"
      ]
     },
     "execution_count": 148,
     "metadata": {},
     "output_type": "execute_result"
    }
   ],
   "source": [
    "df.describe()"
   ]
  },
  {
   "cell_type": "code",
   "execution_count": 146,
   "id": "ccf55e52-e393-49c4-aeb6-4a28aa7ea02e",
   "metadata": {
    "tags": []
   },
   "outputs": [
    {
     "name": "stdout",
     "output_type": "stream",
     "text": [
      "<class 'pandas.core.frame.DataFrame'>\n",
      "RangeIndex: 3273 entries, 0 to 3272\n",
      "Columns: 346 entries, State to ARSON\n",
      "dtypes: float64(339), int64(5), object(2)\n",
      "memory usage: 8.6+ MB\n"
     ]
    }
   ],
   "source": [
    "df.info()"
   ]
  },
  {
   "cell_type": "code",
   "execution_count": 150,
   "id": "154ff39c-c47c-41e0-83e5-ec3457217205",
   "metadata": {
    "tags": []
   },
   "outputs": [],
   "source": [
    "#imputer = SimpleImputer"
   ]
  },
  {
   "cell_type": "code",
   "execution_count": 154,
   "id": "f07423e4-abb9-4043-b5ca-761f02e45832",
   "metadata": {
    "tags": []
   },
   "outputs": [
    {
     "data": {
      "text/html": [
       "<div>\n",
       "<style scoped>\n",
       "    .dataframe tbody tr th:only-of-type {\n",
       "        vertical-align: middle;\n",
       "    }\n",
       "\n",
       "    .dataframe tbody tr th {\n",
       "        vertical-align: top;\n",
       "    }\n",
       "\n",
       "    .dataframe thead th {\n",
       "        text-align: right;\n",
       "    }\n",
       "</style>\n",
       "<table border=\"1\" class=\"dataframe\">\n",
       "  <thead>\n",
       "    <tr style=\"text-align: right;\">\n",
       "      <th></th>\n",
       "      <th>State</th>\n",
       "      <th>Area</th>\n",
       "      <th>Rural-urban_Continuum Code_2013</th>\n",
       "      <th>Urban_Influence_Code_2013</th>\n",
       "      <th>Economic_typology_2015</th>\n",
       "      <th>POP_ESTIMATE_2018</th>\n",
       "      <th>N_POP_CHG_2018</th>\n",
       "      <th>Births_2018</th>\n",
       "      <th>Deaths_2018</th>\n",
       "      <th>NATURAL_INC_2018</th>\n",
       "      <th>...</th>\n",
       "      <th>Total number of UCR (Uniform Crime Report) Index crimes excluding arson.</th>\n",
       "      <th>Total number of UCR (Uniform Crime Report) index crimes reported including arson</th>\n",
       "      <th>MURDER</th>\n",
       "      <th>RAPE</th>\n",
       "      <th>ROBBERY</th>\n",
       "      <th>Number of AGGRAVATED ASSAULTS</th>\n",
       "      <th>BURGLRY</th>\n",
       "      <th>LARCENY</th>\n",
       "      <th>MOTOR VEHICLE THEFTS</th>\n",
       "      <th>ARSON</th>\n",
       "    </tr>\n",
       "  </thead>\n",
       "  <tbody>\n",
       "    <tr>\n",
       "      <th>0</th>\n",
       "      <td>US</td>\n",
       "      <td>United States</td>\n",
       "      <td>NaN</td>\n",
       "      <td>NaN</td>\n",
       "      <td>NaN</td>\n",
       "      <td>327167434</td>\n",
       "      <td>2020313.0</td>\n",
       "      <td>3855500.0</td>\n",
       "      <td>2814013.0</td>\n",
       "      <td>1041487.0</td>\n",
       "      <td>...</td>\n",
       "      <td>NaN</td>\n",
       "      <td>NaN</td>\n",
       "      <td>NaN</td>\n",
       "      <td>NaN</td>\n",
       "      <td>NaN</td>\n",
       "      <td>NaN</td>\n",
       "      <td>NaN</td>\n",
       "      <td>NaN</td>\n",
       "      <td>NaN</td>\n",
       "      <td>NaN</td>\n",
       "    </tr>\n",
       "    <tr>\n",
       "      <th>1</th>\n",
       "      <td>AL</td>\n",
       "      <td>Alabama</td>\n",
       "      <td>NaN</td>\n",
       "      <td>NaN</td>\n",
       "      <td>NaN</td>\n",
       "      <td>4887871</td>\n",
       "      <td>12751.0</td>\n",
       "      <td>57216.0</td>\n",
       "      <td>53425.0</td>\n",
       "      <td>3791.0</td>\n",
       "      <td>...</td>\n",
       "      <td>NaN</td>\n",
       "      <td>NaN</td>\n",
       "      <td>NaN</td>\n",
       "      <td>NaN</td>\n",
       "      <td>NaN</td>\n",
       "      <td>NaN</td>\n",
       "      <td>NaN</td>\n",
       "      <td>NaN</td>\n",
       "      <td>NaN</td>\n",
       "      <td>NaN</td>\n",
       "    </tr>\n",
       "  </tbody>\n",
       "</table>\n",
       "<p>2 rows × 346 columns</p>\n",
       "</div>"
      ],
      "text/plain": [
       "  State           Area  Rural-urban_Continuum Code_2013  \\\n",
       "0    US  United States                              NaN   \n",
       "1    AL        Alabama                              NaN   \n",
       "\n",
       "   Urban_Influence_Code_2013  Economic_typology_2015  POP_ESTIMATE_2018  \\\n",
       "0                        NaN                     NaN          327167434   \n",
       "1                        NaN                     NaN            4887871   \n",
       "\n",
       "   N_POP_CHG_2018  Births_2018  Deaths_2018  NATURAL_INC_2018  ...  \\\n",
       "0       2020313.0    3855500.0    2814013.0         1041487.0  ...   \n",
       "1         12751.0      57216.0      53425.0            3791.0  ...   \n",
       "\n",
       "   Total number of UCR (Uniform Crime Report) Index crimes excluding arson.  \\\n",
       "0                                                NaN                          \n",
       "1                                                NaN                          \n",
       "\n",
       "   Total number of UCR (Uniform Crime Report) index crimes reported including arson  \\\n",
       "0                                                NaN                                  \n",
       "1                                                NaN                                  \n",
       "\n",
       "   MURDER  RAPE  ROBBERY  Number of AGGRAVATED ASSAULTS  BURGLRY  LARCENY  \\\n",
       "0     NaN   NaN      NaN                            NaN      NaN      NaN   \n",
       "1     NaN   NaN      NaN                            NaN      NaN      NaN   \n",
       "\n",
       "   MOTOR VEHICLE THEFTS  ARSON  \n",
       "0                   NaN    NaN  \n",
       "1                   NaN    NaN  \n",
       "\n",
       "[2 rows x 346 columns]"
      ]
     },
     "execution_count": 154,
     "metadata": {},
     "output_type": "execute_result"
    }
   ],
   "source": [
    "df.head(2)"
   ]
  },
  {
   "cell_type": "code",
   "execution_count": 158,
   "id": "328bcc3b-27c3-4e37-8546-aa6bf2b2d5f0",
   "metadata": {
    "tags": []
   },
   "outputs": [],
   "source": [
    "df2 = df.groupby('Area')[['Births_2018','Deaths_2018','MURDER','RAPE','ROBBERY','BURGLRY','MOTOR VEHICLE THEFTS']].sum().reset_index()"
   ]
  },
  {
   "cell_type": "code",
   "execution_count": 160,
   "id": "c81815b5-ff52-4d17-8635-1d09cb8540ee",
   "metadata": {
    "tags": []
   },
   "outputs": [
    {
     "data": {
      "text/html": [
       "<div>\n",
       "<style scoped>\n",
       "    .dataframe tbody tr th:only-of-type {\n",
       "        vertical-align: middle;\n",
       "    }\n",
       "\n",
       "    .dataframe tbody tr th {\n",
       "        vertical-align: top;\n",
       "    }\n",
       "\n",
       "    .dataframe thead th {\n",
       "        text-align: right;\n",
       "    }\n",
       "</style>\n",
       "<table border=\"1\" class=\"dataframe\">\n",
       "  <thead>\n",
       "    <tr style=\"text-align: right;\">\n",
       "      <th></th>\n",
       "      <th>Area</th>\n",
       "      <th>Births_2018</th>\n",
       "      <th>Deaths_2018</th>\n",
       "      <th>MURDER</th>\n",
       "      <th>RAPE</th>\n",
       "      <th>ROBBERY</th>\n",
       "      <th>BURGLRY</th>\n",
       "      <th>MOTOR VEHICLE THEFTS</th>\n",
       "    </tr>\n",
       "  </thead>\n",
       "  <tbody>\n",
       "    <tr>\n",
       "      <th>0</th>\n",
       "      <td>Abbeville County</td>\n",
       "      <td>202.0</td>\n",
       "      <td>275.0</td>\n",
       "      <td>0.0</td>\n",
       "      <td>5.0</td>\n",
       "      <td>12.0</td>\n",
       "      <td>216.0</td>\n",
       "      <td>25.0</td>\n",
       "    </tr>\n",
       "    <tr>\n",
       "      <th>1</th>\n",
       "      <td>Acadia Parish</td>\n",
       "      <td>838.0</td>\n",
       "      <td>687.0</td>\n",
       "      <td>4.0</td>\n",
       "      <td>4.0</td>\n",
       "      <td>20.0</td>\n",
       "      <td>162.0</td>\n",
       "      <td>54.0</td>\n",
       "    </tr>\n",
       "  </tbody>\n",
       "</table>\n",
       "</div>"
      ],
      "text/plain": [
       "               Area  Births_2018  Deaths_2018  MURDER  RAPE  ROBBERY  BURGLRY  \\\n",
       "0  Abbeville County        202.0        275.0     0.0   5.0     12.0    216.0   \n",
       "1     Acadia Parish        838.0        687.0     4.0   4.0     20.0    162.0   \n",
       "\n",
       "   MOTOR VEHICLE THEFTS  \n",
       "0                  25.0  \n",
       "1                  54.0  "
      ]
     },
     "execution_count": 160,
     "metadata": {},
     "output_type": "execute_result"
    }
   ],
   "source": [
    "df2.head(2)"
   ]
  },
  {
   "cell_type": "code",
   "execution_count": 162,
   "id": "c0233cab-fc2d-4a67-9534-d0994f134ac8",
   "metadata": {
    "tags": []
   },
   "outputs": [],
   "source": [
    "import matplotlib.pyplot as plt"
   ]
  },
  {
   "cell_type": "code",
   "execution_count": 174,
   "id": "d233bae0-5fb0-43b4-b41d-de5fc4d7743b",
   "metadata": {
    "tags": []
   },
   "outputs": [
    {
     "data": {
      "text/plain": [
       "[<matplotlib.lines.Line2D at 0x3454f8a90>]"
      ]
     },
     "execution_count": 174,
     "metadata": {},
     "output_type": "execute_result"
    },
    {
     "data": {
      "image/png": "[encoded data removed]",
      "text/plain": [
       "<Figure size 640x480 with 1 Axes>"
      ]
     },
     "metadata": {},
     "output_type": "display_data"
    }
   ],
   "source": [
    "x = np.linspace(0,10,1000)\n",
    "y = np.sin(x)\n",
    "plt.plot(x,y)"
   ]
  },
  {
   "cell_type": "code",
   "execution_count": 190,
   "id": "1b26b737-57b4-408e-b94d-4d26664df906",
   "metadata": {
    "tags": []
   },
   "outputs": [
    {
     "data": {
      "text/plain": [
       "<matplotlib.collections.PathCollection at 0x3456d6550>"
      ]
     },
     "execution_count": 190,
     "metadata": {},
     "output_type": "execute_result"
    },
    {
     "data": {
      "image/png": "[encoded data removed]",
      "text/plain": [
       "<Figure size 640x480 with 1 Axes>"
      ]
     },
     "metadata": {},
     "output_type": "display_data"
    }
   ],
   "source": [
    "plt.scatter(x[::20],y[::20],color = 'red')"
   ]
  },
  {
   "cell_type": "code",
   "execution_count": 50,
   "id": "dfdf8d1f-cbfb-43b5-a64f-ee77d87ff462",
   "metadata": {},
   "outputs": [
    {
     "name": "stdout",
     "output_type": "stream",
     "text": [
      "[2, 3, 4, 5, 6, 7, 10, 15]\n"
     ]
    }
   ],
   "source": [
    "A = [2,2,3,4,4,5,6,7,7,10,10,10,15]\n",
    "x = 0\n",
    "for i in range(1,len(A)):\n",
    "    if A[i] != A[x]:\n",
    "        x = x + 1\n",
    "        A[x] = A[i]\n",
    "print(A[: x+1])"
   ]
  },
  {
   "cell_type": "code",
   "execution_count": 76,
   "id": "49b23da3-5619-47ed-8b69-1591b17c55a2",
   "metadata": {
    "tags": []
   },
   "outputs": [],
   "source": [
    "def removeDuplicates(A):\n",
    "    if not A:\n",
    "        return []\n",
    "\n",
    "    x = 0\n",
    "    for i in range(1,len(A)):\n",
    "        if A[i] != A[x]:\n",
    "            x = x + 1\n",
    "            A[x] = A[i]\n",
    "    return (A[: x+1])"
   ]
  },
  {
   "cell_type": "code",
   "execution_count": 78,
   "id": "78cbdb9d-cd25-48dc-a144-8bc3250da8cf",
   "metadata": {
    "tags": []
   },
   "outputs": [
    {
     "name": "stdin",
     "output_type": "stream",
     "text": [
      "Enter sorted numbers separated by spaces:  5 5 5 6 6 \n"
     ]
    },
    {
     "name": "stdout",
     "output_type": "stream",
     "text": [
      "Unique values: [5, 6]\n"
     ]
    }
   ],
   "source": [
    "userInput = input(\"Enter sorted numbers separated by spaces: \")\n",
    "A = list(map(int, userInput.strip().split()))\n",
    "\n",
    "# 🔽 Call function and print result\n",
    "unique_list = removeDuplicates(A)\n",
    "print(\"Unique values:\", unique_list)"
   ]
  },
  {
   "cell_type": "code",
   "execution_count": null,
   "id": "7a6ae12d-46cc-4019-b2f6-c381feb1aafe",
   "metadata": {},
   "outputs": [],
   "source": []
  }
 ],
 "metadata": {
  "kernelspec": {
   "display_name": "Python 3 (ipykernel)",
   "language": "python",
   "name": "python3"
  },
  "language_info": {
   "codemirror_mode": {
    "name": "ipython",
    "version": 3
   },
   "file_extension": ".py",
   "mimetype": "text/x-python",
   "name": "python",
   "nbconvert_exporter": "python",
   "pygments_lexer": "ipython3",
   "version": "3.11.7"
  }
 },
 "nbformat": 4,
 "nbformat_minor": 5
}
